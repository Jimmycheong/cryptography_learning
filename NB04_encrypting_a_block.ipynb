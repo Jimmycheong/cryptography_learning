{
 "cells": [
  {
   "cell_type": "markdown",
   "metadata": {},
   "source": [
    "# Signing and verifying a block header "
   ]
  },
  {
   "cell_type": "markdown",
   "metadata": {},
   "source": [
    "## 1. Creating Encryption Key pair"
   ]
  },
  {
   "cell_type": "code",
   "execution_count": 1,
   "metadata": {
    "collapsed": true
   },
   "outputs": [],
   "source": [
    "def generate_RSA(bits=2048):\n",
    "    '''\n",
    "    Generate an RSA keypair with an exponent of 65537 in PEM format\n",
    "    param: bits The key length in bits\n",
    "    Return private key and public key\n",
    "    '''\n",
    "    from Crypto.PublicKey import RSA \n",
    "    new_key = RSA.generate(bits, e=65537) \n",
    "    public_key = new_key.publickey().exportKey(\"PEM\") \n",
    "    private_key = new_key.exportKey(\"PEM\") \n",
    "    return private_key, public_key\n"
   ]
  },
  {
   "cell_type": "code",
   "execution_count": 2,
   "metadata": {
    "collapsed": true
   },
   "outputs": [],
   "source": [
    "from Crypto.PublicKey import RSA \n",
    "\n",
    "alice_priv, alice_pub = generate_RSA()\n",
    "bob_priv, bob_pub = generate_RSA()\n",
    "\n",
    "with open(\"resources/alice_pub.pem\", \"wb\") as file:\n",
    "    file.write(alice_pub)\n",
    "\n",
    "with open(\"resources/alice_priv.pem\", \"wb\") as file:\n",
    "    file.write(alice_priv)\n",
    "\n",
    "with open(\"resources/bob_pub.pem\", \"wb\") as file:\n",
    "    file.write(bob_pub)\n",
    "\n",
    "with open(\"resources/bob_priv.pem\", \"wb\") as file:\n",
    "    file.write(bob_priv)"
   ]
  },
  {
   "cell_type": "markdown",
   "metadata": {},
   "source": [
    "## 2. Signing a blocker header using private key"
   ]
  },
  {
   "cell_type": "code",
   "execution_count": 5,
   "metadata": {
    "collapsed": true
   },
   "outputs": [],
   "source": [
    "import json \n",
    "from Crypto.Hash import SHA\n",
    "\n",
    "def hash_block(msg=\"\"):\n",
    "    # Hashes a list of dictionaries\n",
    "    if type(msg)!=str:\n",
    "        msg = json.dumps(msg,sort_keys=True)  # If we don't sort keys, we can't guarantee repeatability!\n",
    "        \n",
    "    return SHA.new(str.encode(msg))"
   ]
  },
  {
   "cell_type": "code",
   "execution_count": 7,
   "metadata": {},
   "outputs": [],
   "source": [
    "from Crypto.PublicKey import RSA\n",
    "\n",
    "# Load resources\n",
    "with open(\"resources/alice_priv.pem\", \"rb\") as file:\n",
    "    alice_priv = RSA.importKey(file.read())\n",
    "    \n",
    "with open('resources/alice_pub.pem', \"rb\") as file:\n",
    "    alice_pub = RSA.importKey(file.read())\n",
    "\n",
    "with open(\"resources/bob_priv.pem\", \"rb\") as file:\n",
    "    bob_priv = RSA.importKey(file.read())\n",
    "    \n",
    "with open('resources/bob_pub.pem', \"rb\") as file:\n",
    "    bob_pub = RSA.importKey(file.read())"
   ]
  },
  {
   "cell_type": "code",
   "execution_count": 12,
   "metadata": {},
   "outputs": [
    {
     "data": {
      "text/plain": [
       "b'_w\\x10\\xca\\x18U\\x14>\\xa8\\xfa8\\xd4tQ=D7]\\x18\\xff\\x8d\\xd7vKK`!`\\x11\\xdb\\x1c\\xd1\\xc5\\xd0Z\\xad\\x91\\xb50\\x142\\xcdBr6\\xf7\\x1e>ROW^\\xdfW\\\\\\x1d\\xb7\\x9f\\xd7e\\xea\\xce\\xad\\xa7\\xd5\\xd6\\x0bN\\xb4\\x96b\\xa3$V65c\\x07\\x7f.J\\x14\\x04W\\xb9@\\x12zA\\xde\\xa4D\\x844I\\x871\\xfb\\x05_\\xf98\\xc5Q\\xb7\\xdf\\x0f\\xe5\\x13\\xc7\\xb1\\xb5\\x93nkm\\xa9I\\x90\\xc7@if\\xa1\\x14%v\\x14\\x0e%{\\xf2\\xd9\\xc7\\xb9a]\\x99\\xabS\\xc2oO\\x07\\xb2\\xe8\\x0cc\"\\x85r\\xdf\\r\\xc0\"\\xcfhcV\\xf8@8\\x0b\\xc2\\xaaHaq\\xbf\\x03\\xc50\\xc5Vc\\x9ff\\xe9\\xd1\\x15\\x9a\\x04\\xbbM\\x88\\xdc\\xfa\\x89\\xfb\\xab\\x8a+Ef;\\xa2D\\x07Jz\\xa4\\x1f\\xcdP\\x90\\x8ff\\xf5\\xf8\\xd4\\x0e\\xf0\\xb8\\xec\\x1aC]\\x7f\\xa4\\xb0f\\xea\\x81\\x12\\xf9i6\\x07\\xce4\\x89\\x8e\\x7f\\xa2\\x15\\x08PU/\\x1fB\\xd3Sd\\x84q]\\x0c\\x99$+\\xce\\xcb\\xbc\\x00\\xc5'"
      ]
     },
     "execution_count": 12,
     "metadata": {},
     "output_type": "execute_result"
    }
   ],
   "source": [
    "from Crypto.Signature import PKCS1_v1_5\n",
    "\n",
    "txns = [\n",
    "    {\"Bob\": -50, \"Alice\": 50},\n",
    "    {\"Bob\": -25, \"Alice\": 25}\n",
    "]\n",
    "\n",
    "block_header = {u'blockNumber':0, u'parentHash':None, u'txn':txns}\n",
    "hash_obj = hash_block(block_header)\n",
    "signer = PKCS1_v1_5.new(bob_priv)\n",
    "signature = signer.sign(hash_obj)\n",
    "\n",
    "signature"
   ]
  },
  {
   "cell_type": "code",
   "execution_count": 13,
   "metadata": {
    "collapsed": true
   },
   "outputs": [],
   "source": [
    "import pickle\n",
    "\n",
    "with open(\"resources/signature.pkl\", \"wb\") as file: \n",
    "    pickle.dump(signature, file)"
   ]
  },
  {
   "cell_type": "markdown",
   "metadata": {},
   "source": [
    "## 3. Verifying a block header using public key"
   ]
  },
  {
   "cell_type": "code",
   "execution_count": 14,
   "metadata": {},
   "outputs": [
    {
     "data": {
      "text/plain": [
       "True"
      ]
     },
     "execution_count": 14,
     "metadata": {},
     "output_type": "execute_result"
    }
   ],
   "source": [
    "from Crypto.Signature import PKCS1_v1_5\n",
    "import pickle\n",
    "\n",
    "with open(\"resources/signature.pkl\", \"rb\") as file: \n",
    "    signature = pickle.load(file)\n",
    "\n",
    "txns = [\n",
    "    {\"Bob\": -50, \"Alice\": 50},\n",
    "    {\"Bob\": -25, \"Alice\": 25}\n",
    "]\n",
    "\n",
    "block_header = {u'blockNumber':0, u'parentHash':None, u'txn':txns}\n",
    "hash_obj = hash_block(block_header)\n",
    "\n",
    "verifier = PKCS1_v1_5.new(bob_pub)\n",
    "\n",
    "result = verifier.verify(hash_obj, signature)\n",
    "\n",
    "result"
   ]
  },
  {
   "cell_type": "code",
   "execution_count": null,
   "metadata": {
    "collapsed": true
   },
   "outputs": [],
   "source": []
  }
 ],
 "metadata": {
  "kernelspec": {
   "display_name": "Python 3",
   "language": "python",
   "name": "python3"
  },
  "language_info": {
   "codemirror_mode": {
    "name": "ipython",
    "version": 3
   },
   "file_extension": ".py",
   "mimetype": "text/x-python",
   "name": "python",
   "nbconvert_exporter": "python",
   "pygments_lexer": "ipython3",
   "version": "3.6.3"
  }
 },
 "nbformat": 4,
 "nbformat_minor": 2
}
