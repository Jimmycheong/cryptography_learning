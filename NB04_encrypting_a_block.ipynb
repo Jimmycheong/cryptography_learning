{
 "cells": [
  {
   "cell_type": "markdown",
   "metadata": {},
   "source": [
    "# Signing and verifying a block header "
   ]
  },
  {
   "cell_type": "markdown",
   "metadata": {},
   "source": [
    "## 1. Creating Encryption Key pair"
   ]
  },
  {
   "cell_type": "code",
   "execution_count": 1,
   "metadata": {
    "collapsed": true
   },
   "outputs": [],
   "source": [
    "def generate_RSA(bits=2048):\n",
    "    '''\n",
    "    Generate an RSA keypair with an exponent of 65537 in PEM format\n",
    "    param: bits The key length in bits\n",
    "    Return private key and public key\n",
    "    '''\n",
    "    from Crypto.PublicKey import RSA \n",
    "    new_key = RSA.generate(bits, e=65537) \n",
    "    public_key = new_key.publickey().exportKey(\"PEM\") \n",
    "    private_key = new_key.exportKey(\"PEM\") \n",
    "    return private_key, public_key\n"
   ]
  },
  {
   "cell_type": "code",
   "execution_count": 3,
   "metadata": {},
   "outputs": [],
   "source": [
    "from Crypto.PublicKey import RSA \n",
    "\n",
    "alice_priv, alice_pub = generate_RSA()\n",
    "bob_priv, bob_pub = generate_RSA()\n",
    "\n",
    "with open(\"resources/alice_pub.pem\", \"wb\") as file:\n",
    "    file.write(alice_pub)\n",
    "\n",
    "with open(\"resources/alice_priv.pem\", \"wb\") as file:\n",
    "    file.write(alice_priv)\n",
    "\n",
    "with open(\"resources/bob_pub.pem\", \"wb\") as file:\n",
    "    file.write(bob_pub)\n",
    "\n",
    "with open(\"resources/bob_priv.pem\", \"wb\") as file:\n",
    "    file.write(bob_priv)"
   ]
  },
  {
   "cell_type": "markdown",
   "metadata": {},
   "source": [
    "## 2. Signing a blocker header using private key"
   ]
  },
  {
   "cell_type": "code",
   "execution_count": 7,
   "metadata": {},
   "outputs": [],
   "source": [
    "import json \n",
    "from Crypto.Hash import SHA\n",
    "\n",
    "def hash_block(msg=\"\"):\n",
    "    # Hashes a list of dictionaries\n",
    "    if type(msg)!=str:\n",
    "        msg = json.dumps(msg,sort_keys=True)  # If we don't sort keys, we can't guarantee repeatability!\n",
    "        \n",
    "    return SHA.new(str.encode(msg))"
   ]
  },
  {
   "cell_type": "code",
   "execution_count": 8,
   "metadata": {
    "collapsed": true
   },
   "outputs": [],
   "source": [
    "# Load resources\n",
    "with open(\"resources/alice_priv.pem\", \"rb\") as file:\n",
    "    alice_priv = RSA.importKey(file.read())\n",
    "    \n",
    "with open('resources/alice_pub.pem', \"rb\") as file:\n",
    "    alice_pub = RSA.importKey(file.read())\n",
    "\n",
    "with open(\"resources/bob_priv.pem\", \"rb\") as file:\n",
    "    bob_priv = RSA.importKey(file.read())\n",
    "    \n",
    "with open('resources/bob_pub.pem', \"rb\") as file:\n",
    "    bob_pub = RSA.importKey(file.read())"
   ]
  },
  {
   "cell_type": "code",
   "execution_count": 9,
   "metadata": {},
   "outputs": [
    {
     "data": {
      "text/plain": [
       "b'&\\x0b\\xb0\\xd3\\xf6\\xfc\\\\\\xa6\\xb6\\xf07Z\\x131t&%L\\xe4N\\xa4\\xc8\\x80\\x90\\xf0h\\xa2\\xc9\\x02p\\x1d\\x1d7\\x89\\xa3\\x87H\\x02\\\\\\x05\\xeac\\xec\\xbc\\x1c\\x9a\\xef\\xbc\\x12X\\x07\\x9d\\n|\\xab\\x97\\xe0\\x0f]\\xb0\\xd2\\tE\\xe9\\x04\\t\\xf3\"U\\xa0Q\\xc5\\x86\\xfe\\x7f\\x17\\xa6$\\x90l\\xf8\\xa0\\xdb\\x1a\\x92\\x92\\x02\\xb2PHO\\xa0\\xbba\\\\\\x9e\\x81Q\\x1e)p1A.\\xf1\\x85\\xfeS\\xe3\\x90\\x96\\xa6\\xb6<@Xm\\x9d\\x88\\xc8\\x17\\xa9\\x93\\xa1\\xcf\\xa3\\xd9\\xf1\\xacF\\xdd\\xd6\\x0bc\\xad\\xb5\\x15V\\xee\\xac>\\xe1\\xf5\\xd7\\xc3\\xf3\\x84\\xe8\\xf8\\xbe1\\xa3\\xb6\\xed\\xb8x5\\xdd\\xf2\\xb0\\x04d/\\xaeZR)L\\xb8\\xab\\xc0c0X\\xd0\\xd4]\\xb7\\xbb\\x0e\\x81cXA\\x85\\xf6\\x9bS\\xdf\\x8bQd:\\xf3\\xfa$\\xa8\\xc5\\x96\\xb8\\xf3oq\\xa7\\x82\\xe9\\xac/\\xed]\\xda\\xfb\\xf3\\x1d\\x03\\xcc\\x06H1\\x94\\xf2T\\xa0\\xf3w1\\xb9\\xa1\\xcd\\x07+f[\\xf8\\xad\\xd8\\xb4\\x98\\xe4\\xb7K\\x07e\\xa4\\rA\\xd2B\\x1f\\xca\\xcf\\xdc\\xfb\\xf0\\x03s'"
      ]
     },
     "execution_count": 9,
     "metadata": {},
     "output_type": "execute_result"
    }
   ],
   "source": [
    "from Crypto.Signature import PKCS1_v1_5\n",
    "\n",
    "txns = [\n",
    "    {\"Bob\": -50, \"Alice\": 50},\n",
    "    {\"Bob\": -25, \"Alice\": 25}\n",
    "]\n",
    "\n",
    "block_header = {u'blockNumber':0, u'parentHash':None, u'txn':txns}\n",
    "hash_obj = hash_block(txns)\n",
    "signer = PKCS1_v1_5.new(bob_priv)\n",
    "signature = signer.sign(hash_obj)\n",
    "\n",
    "signature"
   ]
  },
  {
   "cell_type": "code",
   "execution_count": 11,
   "metadata": {
    "collapsed": true
   },
   "outputs": [],
   "source": [
    "import pickle\n",
    "\n",
    "with open(\"resources/signature.pkl\", \"wb\") as file: \n",
    "    pickle.dump(signature, file)"
   ]
  },
  {
   "cell_type": "markdown",
   "metadata": {},
   "source": [
    "## 3. Verifying a block header using public key"
   ]
  },
  {
   "cell_type": "code",
   "execution_count": 14,
   "metadata": {},
   "outputs": [],
   "source": [
    "from Crypto.Signature import PKCS1_v1_5\n",
    "\n",
    "txns = [\n",
    "    {\"Bob\": -50, \"Alice\": 50},\n",
    "    {\"Bob\": -25, \"Alice\": 25}\n",
    "]\n",
    "\n",
    "block_header = {u'blockNumber':0, u'parentHash':None, u'txn':txns}\n",
    "hash_obj = hash_block(txns)\n",
    "\n",
    "verifier = PKCS1_v1_5.new(bob_pub)\n",
    "\n",
    "result = verifier.verify(hash_obj, signature)\n"
   ]
  }
 ],
 "metadata": {
  "kernelspec": {
   "display_name": "Python 3",
   "language": "python",
   "name": "python3"
  },
  "language_info": {
   "codemirror_mode": {
    "name": "ipython",
    "version": 3
   },
   "file_extension": ".py",
   "mimetype": "text/x-python",
   "name": "python",
   "nbconvert_exporter": "python",
   "pygments_lexer": "ipython3",
   "version": "3.6.3"
  }
 },
 "nbformat": 4,
 "nbformat_minor": 2
}
