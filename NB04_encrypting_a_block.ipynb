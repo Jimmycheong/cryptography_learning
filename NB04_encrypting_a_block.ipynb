{
 "cells": [
  {
   "cell_type": "markdown",
   "metadata": {},
   "source": [
    "# Signing and verifying a block header "
   ]
  },
  {
   "cell_type": "markdown",
   "metadata": {},
   "source": [
    "## 1. Creating Encryption Key pair"
   ]
  },
  {
   "cell_type": "code",
   "execution_count": 1,
   "metadata": {
    "collapsed": true
   },
   "outputs": [],
   "source": [
    "def generate_RSA(bits=2048):\n",
    "    '''\n",
    "    Generate an RSA keypair with an exponent of 65537 in PEM format\n",
    "    param: bits The key length in bits\n",
    "    Return private key and public key\n",
    "    '''\n",
    "    from Crypto.PublicKey import RSA \n",
    "    new_key = RSA.generate(bits, e=65537) \n",
    "    public_key = new_key.publickey().exportKey(\"PEM\") \n",
    "    private_key = new_key.exportKey(\"PEM\") \n",
    "    return private_key, public_key\n"
   ]
  },
  {
   "cell_type": "code",
   "execution_count": 2,
   "metadata": {
    "collapsed": true
   },
   "outputs": [],
   "source": [
    "from Crypto.PublicKey import RSA \n",
    "\n",
    "alice_priv, alice_pub = generate_RSA()\n",
    "bob_priv, bob_pub = generate_RSA()\n",
    "\n",
    "with open(\"resources/alice_pub.pem\", \"wb\") as file:\n",
    "    file.write(alice_pub)\n",
    "\n",
    "with open(\"resources/alice_priv.pem\", \"wb\") as file:\n",
    "    file.write(alice_priv)\n",
    "\n",
    "with open(\"resources/bob_pub.pem\", \"wb\") as file:\n",
    "    file.write(bob_pub)\n",
    "\n",
    "with open(\"resources/bob_priv.pem\", \"wb\") as file:\n",
    "    file.write(bob_priv)"
   ]
  },
  {
   "cell_type": "markdown",
   "metadata": {},
   "source": [
    "## 2. Signing a blocker header using private key"
   ]
  },
  {
   "cell_type": "code",
   "execution_count": 3,
   "metadata": {
    "collapsed": true
   },
   "outputs": [],
   "source": [
    "import json \n",
    "from Crypto.Hash import SHA\n",
    "\n",
    "def hash_block(msg=\"\"):\n",
    "    # Hashes a list of dictionaries\n",
    "    if type(msg)!=str:\n",
    "        msg = json.dumps(msg,sort_keys=True)  # If we don't sort keys, we can't guarantee repeatability!\n",
    "        \n",
    "    return SHA.new(str.encode(msg))"
   ]
  },
  {
   "cell_type": "code",
   "execution_count": 4,
   "metadata": {
    "collapsed": true
   },
   "outputs": [],
   "source": [
    "# Load resources\n",
    "with open(\"resources/alice_priv.pem\", \"rb\") as file:\n",
    "    alice_priv = RSA.importKey(file.read())\n",
    "    \n",
    "with open('resources/alice_pub.pem', \"rb\") as file:\n",
    "    alice_pub = RSA.importKey(file.read())\n",
    "\n",
    "with open(\"resources/bob_priv.pem\", \"rb\") as file:\n",
    "    bob_priv = RSA.importKey(file.read())\n",
    "    \n",
    "with open('resources/bob_pub.pem', \"rb\") as file:\n",
    "    bob_pub = RSA.importKey(file.read())"
   ]
  },
  {
   "cell_type": "code",
   "execution_count": 5,
   "metadata": {},
   "outputs": [
    {
     "data": {
      "text/plain": [
       "b\"9\\x8a(~\\xae\\x1c\\xc8\\xc9r\\x9bR\\x8c\\x15\\xe1\\xd6Y\\xe5^\\tt\\xfd\\xcf\\xa7\\xf1D\\xd4\\xaeG=\\xff0\\t\\xdb{\\x02\\xf8\\xf1\\xc0\\x12J\\xae\\xec\\x1c/<t\\xe9\\x1f\\x1eD\\x9c#\\xcf\\x91\\x1e\\xe7e\\x00{T\\x18\\xa2A\\xea\\xbc?.\\x90\\xfc\\n\\xf3\\x08\\x7f\\xb2\\xe4\\x1c|U7 \\x0f\\xb7(N\\xb6\\x0b\\x041\\xa3\\xbcn\\xd5\\xa7^u\\xc5\\x82\\x82\\xe2\\xec\\x98\\x17\\xec\\x14\\xe8\\x98\\nK\\x93\\xe0K\\x19.~)\\x8agi\\xb9\\xe9\\xdaa\\x0c\\xdc\\xc7\\xab\\\\\\xa8\\x86\\xf1\\x96\\xb4\\xee\\xd1\\x89h\\x062G\\xe9<\\x12\\xa6&+\\x9cw\\xa4d\\xff\\xb2\\x1f\\x93\\x85H\\x91rfy\\xfc\\x90\\x18\\xfe\\x9cs\\x91\\xe5x\\xd6\\xd3\\xf1\\xb0!\\x89\\xe8'<\\xec\\xaah\\xa5|\\x9d#\\x9d\\x18\\xaf!r\\x85\\xcd\\x88\\xae\\x13\\x11\\xc7T\\xd7t/\\x8fp/\\xb0+\\xc9\\x08^\\xe1\\x87\\x0e\\xe4pE\\xbeO\\xf1\\x0f\\xd6\\xcaTN^\\xdb>\\xe0fQ\\xf2s\\x95\\x9d|\\xfaC)\\xa6C\\xfb-\\xacL\\xb2\\xa6a|b\\x80#@\\x99I\\xdf\\xed=\\x94\""
      ]
     },
     "execution_count": 5,
     "metadata": {},
     "output_type": "execute_result"
    }
   ],
   "source": [
    "from Crypto.Signature import PKCS1_v1_5\n",
    "\n",
    "txns = [\n",
    "    {\"Bob\": -50, \"Alice\": 50},\n",
    "    {\"Bob\": -25, \"Alice\": 25}\n",
    "]\n",
    "\n",
    "block_header = {u'blockNumber':0, u'parentHash':None, u'txn':txns}\n",
    "hash_obj = hash_block(txns)\n",
    "signer = PKCS1_v1_5.new(bob_priv)\n",
    "signature = signer.sign(hash_obj)\n",
    "\n",
    "signature"
   ]
  },
  {
   "cell_type": "code",
   "execution_count": 6,
   "metadata": {
    "collapsed": true
   },
   "outputs": [],
   "source": [
    "import pickle\n",
    "\n",
    "with open(\"resources/signature.pkl\", \"wb\") as file: \n",
    "    pickle.dump(signature, file)"
   ]
  },
  {
   "cell_type": "markdown",
   "metadata": {},
   "source": [
    "## 3. Verifying a block header using public key"
   ]
  },
  {
   "cell_type": "code",
   "execution_count": 10,
   "metadata": {},
   "outputs": [
    {
     "data": {
      "text/plain": [
       "True"
      ]
     },
     "execution_count": 10,
     "metadata": {},
     "output_type": "execute_result"
    }
   ],
   "source": [
    "from Crypto.Signature import PKCS1_v1_5\n",
    "import pickle\n",
    "\n",
    "with open(\"resources/signature.pkl\", \"rb\") as file: \n",
    "    signature = pickle.load(file)\n",
    "\n",
    "txns = [\n",
    "    {\"Bob\": -50, \"Alice\": 50},\n",
    "    {\"Bob\": -25, \"Alice\": 25}\n",
    "]\n",
    "\n",
    "block_header = {u'blockNumber':0, u'parentHash':None, u'txn':txns}\n",
    "hash_obj = hash_block(txns)\n",
    "\n",
    "verifier = PKCS1_v1_5.new(bob_pub)\n",
    "\n",
    "result = verifier.verify(hash_obj, signature)\n",
    "\n",
    "result"
   ]
  }
 ],
 "metadata": {
  "kernelspec": {
   "display_name": "Python 3",
   "language": "python",
   "name": "python3"
  },
  "language_info": {
   "codemirror_mode": {
    "name": "ipython",
    "version": 3
   },
   "file_extension": ".py",
   "mimetype": "text/x-python",
   "name": "python",
   "nbconvert_exporter": "python",
   "pygments_lexer": "ipython3",
   "version": "3.6.3"
  }
 },
 "nbformat": 4,
 "nbformat_minor": 2
}
