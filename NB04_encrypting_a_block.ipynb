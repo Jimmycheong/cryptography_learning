{
 "cells": [
  {
   "cell_type": "markdown",
   "metadata": {},
   "source": [
    "# Signing and verifying a block header "
   ]
  },
  {
   "cell_type": "markdown",
   "metadata": {},
   "source": [
    "## 1. Creating Encryption Key pair"
   ]
  },
  {
   "cell_type": "code",
   "execution_count": 1,
   "metadata": {
    "collapsed": true
   },
   "outputs": [],
   "source": [
    "def generate_RSA(bits=2048):\n",
    "    '''\n",
    "    Generate an RSA keypair with an exponent of 65537 in PEM format\n",
    "    param: bits The key length in bits\n",
    "    Return private key and public key\n",
    "    '''\n",
    "    from Crypto.PublicKey import RSA \n",
    "    new_key = RSA.generate(bits, e=65537) \n",
    "    public_key = new_key.publickey().exportKey(\"PEM\") \n",
    "    private_key = new_key.exportKey(\"PEM\") \n",
    "    return private_key, public_key\n"
   ]
  },
  {
   "cell_type": "code",
   "execution_count": 2,
   "metadata": {
    "collapsed": true
   },
   "outputs": [],
   "source": [
    "from Crypto.PublicKey import RSA \n",
    "\n",
    "alice_priv, alice_pub = generate_RSA()\n",
    "bob_priv, bob_pub = generate_RSA()\n",
    "\n",
    "with open(\"resources/alice_pub.pem\", \"wb\") as file:\n",
    "    file.write(alice_pub)\n",
    "\n",
    "with open(\"resources/alice_priv.pem\", \"wb\") as file:\n",
    "    file.write(alice_priv)\n",
    "\n",
    "with open(\"resources/bob_pub.pem\", \"wb\") as file:\n",
    "    file.write(bob_pub)\n",
    "\n",
    "with open(\"resources/bob_priv.pem\", \"wb\") as file:\n",
    "    file.write(bob_priv)"
   ]
  },
  {
   "cell_type": "markdown",
   "metadata": {},
   "source": [
    "## 2. Signing a blocker header using private key"
   ]
  },
  {
   "cell_type": "code",
   "execution_count": 3,
   "metadata": {
    "collapsed": true
   },
   "outputs": [],
   "source": [
    "import json \n",
    "from Crypto.Hash import SHA\n",
    "\n",
    "def hash_block(msg=\"\"):\n",
    "    # Hashes a list of dictionaries\n",
    "    if type(msg)!=str:\n",
    "        msg = json.dumps(msg,sort_keys=True)  # If we don't sort keys, we can't guarantee repeatability!\n",
    "        \n",
    "    return SHA.new(str.encode(msg))"
   ]
  },
  {
   "cell_type": "code",
   "execution_count": 4,
   "metadata": {
    "collapsed": true
   },
   "outputs": [],
   "source": [
    "from Crypto.PublicKey import RSA\n",
    "\n",
    "# Load resources\n",
    "with open(\"resources/alice_priv.pem\", \"rb\") as file:\n",
    "    alice_priv = RSA.importKey(file.read())\n",
    "    \n",
    "with open('resources/alice_pub.pem', \"rb\") as file:\n",
    "    alice_pub = RSA.importKey(file.read())\n",
    "\n",
    "with open(\"resources/bob_priv.pem\", \"rb\") as file:\n",
    "    bob_priv = RSA.importKey(file.read())\n",
    "    \n",
    "with open('resources/bob_pub.pem', \"rb\") as file:\n",
    "    bob_pub = RSA.importKey(file.read())"
   ]
  },
  {
   "cell_type": "code",
   "execution_count": 5,
   "metadata": {},
   "outputs": [
    {
     "data": {
      "text/plain": [
       "b'fG\\x0f\\xc1}4\\xeb\\xbf\\xe9`\\x80F*&\\x1b\\x7fA\\xc9[9/\\xf4\\x04o\\x80CH\\x9e\\xac\\xfd\"\\xaf\\xe7\\xd9\\xd9t|X\\xc4s\\xd4RM\\xc4\\xa7a\"\\xee\\x97q\\xe1\\xcdg\\xee\\x91\\xe2\\xb8\\xcd\\x89]W8\\xbb0n\\x91\\xfa8{\\xd5R\\x87\\xc4_\\t\\xbbR\\x85\\x01=he\\xda\\x17\\x1d]\\xed\\xa7m\\xc5\\x9a\\xb4\\x86\\xf3\\xf6\\xb5i\\x17\\xa4\\x18bB\\\\/\\xd4\\xeb\\xc6\\x8c\\xae\\x9f)\\x1c4E\\x8f\\xdd\\x1f8\\xadM\\xbci\\xd4xq\\xf9\\xd1af\\xca\\xa4N\\xc8\\xf3\\xfe\\x89\\x13\\x9c\\x95\\xff\\xd5\\x13\\xb6\\x0e\\x0c\\xdbC\\xe5VU^\\x89~\\xb1\\x85<JX\\xf0\\xf6\\x87\\xdd.\\xe6\\xdb\\xbc\\x92\\n\\xc5\\xd91\\x8b\\xe6\\x11\\xbc.\\x90s\\xd3$\\xc6\\xb30\\xe7\\xa3\\xf3\\r\\xc6N\\x87V7>\\xd9\\xb2\\xf96\\xec\\xac\\xec\\x95YE\\x1b\\x83\\xcc\\x07\\x95G\\xde\\xf2v\\xc4.\\xff\\xaaH\\x80\\x91\\xd6B\\xc6\\x91\\x18\\x9fh\\xac\\xe1kk\\xa9\\x90\\x93M=\\xfb\\xc4\\xf1\\x02\\xe8\\x1b\\x1fC(5N:\\xbe?]\\xad\\x08\\xbamdh'"
      ]
     },
     "execution_count": 5,
     "metadata": {},
     "output_type": "execute_result"
    }
   ],
   "source": [
    "from Crypto.Signature import PKCS1_v1_5\n",
    "\n",
    "txns = [\n",
    "    {\"Bob\": -50, \"Alice\": 50},\n",
    "    {\"Bob\": -25, \"Alice\": 25}\n",
    "]\n",
    "\n",
    "block_header = {u'blockNumber':0, u'parentHash':None, u'txn':txns}\n",
    "hash_obj = hash_block(block_header)\n",
    "signer = PKCS1_v1_5.new(bob_priv)\n",
    "signature = signer.sign(hash_obj)\n",
    "\n",
    "signature"
   ]
  },
  {
   "cell_type": "code",
   "execution_count": 6,
   "metadata": {
    "collapsed": true
   },
   "outputs": [],
   "source": [
    "import pickle\n",
    "\n",
    "with open(\"resources/signature.pkl\", \"wb\") as file: \n",
    "    pickle.dump(signature, file)"
   ]
  },
  {
   "cell_type": "markdown",
   "metadata": {},
   "source": [
    "## 3. Verifying a block header using public key"
   ]
  },
  {
   "cell_type": "code",
   "execution_count": 7,
   "metadata": {},
   "outputs": [
    {
     "data": {
      "text/plain": [
       "True"
      ]
     },
     "execution_count": 7,
     "metadata": {},
     "output_type": "execute_result"
    }
   ],
   "source": [
    "from Crypto.Signature import PKCS1_v1_5\n",
    "import pickle\n",
    "\n",
    "with open(\"resources/signature.pkl\", \"rb\") as file: \n",
    "    signature = pickle.load(file)\n",
    "\n",
    "txns = [\n",
    "    {\"Bob\": -50, \"Alice\": 50},\n",
    "    {\"Bob\": -25, \"Alice\": 25}\n",
    "]\n",
    "\n",
    "block_header = {u'blockNumber':0, u'parentHash':None, u'txn':txns}\n",
    "hash_obj = hash_block(block_header)\n",
    "\n",
    "verifier = PKCS1_v1_5.new(bob_pub)\n",
    "\n",
    "result = verifier.verify(hash_obj, signature)\n",
    "\n",
    "result"
   ]
  }
 ],
 "metadata": {
  "kernelspec": {
   "display_name": "Python 3",
   "language": "python",
   "name": "python3"
  },
  "language_info": {
   "codemirror_mode": {
    "name": "ipython",
    "version": 3
   },
   "file_extension": ".py",
   "mimetype": "text/x-python",
   "name": "python",
   "nbconvert_exporter": "python",
   "pygments_lexer": "ipython3",
   "version": "3.6.3"
  }
 },
 "nbformat": 4,
 "nbformat_minor": 2
}
