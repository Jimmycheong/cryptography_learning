{
 "cells": [
  {
   "cell_type": "markdown",
   "metadata": {},
   "source": [
    "# Creating digital signature with public key"
   ]
  },
  {
   "cell_type": "markdown",
   "metadata": {},
   "source": [
    "### 1. Signing transactions to create a digital signature appended with public key"
   ]
  },
  {
   "cell_type": "code",
   "execution_count": 70,
   "metadata": {
    "scrolled": true
   },
   "outputs": [
    {
     "name": "stdout",
     "output_type": "stream",
     "text": [
      "sk:  b'n\\xf6\\xc0\\xc6E\\x1e\\xc6\\x92Ja\\x89\\xa2\\xe7\\x92\\xd7or\\xa2\\xbf[\\xc4\\xe5\\xb1\\x9f\\xa0\\xd4\\xcd\\xa9u\\xf6\\x177'\n",
      "vk:  b'\\xd8\\xacy\\xca\\xddX\\x1diu\\x94\\x91\\xeb\\x81\\xed\\x10^\\x1czv\\x8e\\xee\\xa9\\xa0\\x87\\x7f\\xcfZ\\r\\xd5m3\\xcdq\\x94\\x9f\\xeayIp\\x18\\x90\\x9e\\x1a\\xe7\\x15\\x14\\x11\\x85[Q\\x98\\x11\\x83>\\xd4\\xd0\\xe1\\x0b[7\\x9b\\xe7\\xbc)'\n"
     ]
    }
   ],
   "source": [
    "from ecdsa import SigningKey, SECP256k1\n",
    "\n",
    "sk = SigningKey.generate(curve=SECP256k1)\n",
    "vk = sk.get_verifying_key()\n",
    "\n",
    "print(\"sk: \", sk.to_string())\n",
    "print(\"vk: \", vk.to_string())"
   ]
  },
  {
   "cell_type": "code",
   "execution_count": 71,
   "metadata": {},
   "outputs": [
    {
     "name": "stdout",
     "output_type": "stream",
     "text": [
      "Sig:  b'\\x94\\xa0A\\xa5\\xa7\\x81\\x82X\\xacV\\x16E[\\x06\\xb6\\xc2\\x9d\\x94\\xc3z\\x96\\xf0p\\xe0\\xcf\\x10\\xe69\\x88\\xa6\\xc5^\\xbb\\x17\\x04\\xcfN\\xd2\\n\\xaau<\\x86/\\x95\\xbc\\x19|H\\x14FmTh\\xbb\\xe8\\xe9\\x12\\x8e1h\\xcd\\xa7;'\n",
      "\n",
      "Sig_vk:\n",
      " 94a041a5a7818258ac5616455b06b6c29d94c37a96f070e0cf10e63988a6c55ebb1704cf4ed20aaa753c862f95bc197c4814466d5468bbe8e9128e3168cda73bd8ac79cadd581d69759491eb81ed105e1c7a768eeea9a0877fcf5a0dd56d33cd71949fea79497018909e1ae7151411855b519811833ed4d0e10b5b379be7bc29\n"
     ]
    }
   ],
   "source": [
    "import json \n",
    "\n",
    "txns = {\"Jimmy\": -50, \"Alice\": 50}\n",
    "sig = sk.sign(str.encode(json.dumps(txns)))\n",
    "\n",
    "print(\"Sig: \", sig)\n",
    "\n",
    "# Combine signature with \n",
    "sig_vk = (sig + vk.to_string()).hex()\n",
    "print(\"\\nSig_vk:\\n\", sig_vk)"
   ]
  },
  {
   "cell_type": "code",
   "execution_count": 72,
   "metadata": {},
   "outputs": [
    {
     "name": "stdout",
     "output_type": "stream",
     "text": [
      "Sig:  b'\\x94\\xa0A\\xa5\\xa7\\x81\\x82X\\xacV\\x16E[\\x06\\xb6\\xc2\\x9d\\x94\\xc3z\\x96\\xf0p\\xe0\\xcf\\x10\\xe69\\x88\\xa6\\xc5^\\xbb\\x17\\x04\\xcfN\\xd2\\n\\xaau<\\x86/\\x95\\xbc\\x19|H\\x14FmTh\\xbb\\xe8\\xe9\\x12\\x8e1h\\xcd\\xa7;'\n",
      "vk:  b'\\xd8\\xacy\\xca\\xddX\\x1diu\\x94\\x91\\xeb\\x81\\xed\\x10^\\x1czv\\x8e\\xee\\xa9\\xa0\\x87\\x7f\\xcfZ\\r\\xd5m3\\xcdq\\x94\\x9f\\xeayIp\\x18\\x90\\x9e\\x1a\\xe7\\x15\\x14\\x11\\x85[Q\\x98\\x11\\x83>\\xd4\\xd0\\xe1\\x0b[7\\x9b\\xe7\\xbc)'\n"
     ]
    }
   ],
   "source": [
    "# Receiver: \n",
    "# - Receives signature in hexidecimal format \n",
    "# - Converts to bytes, seperates \n",
    "\n",
    "def parse_signature(hex_str): \n",
    "    sig_plus_vk = bytes.fromhex(hex_str)\n",
    "    return sig_plus_vk[:64], sig_plus_vk[64:]\n",
    "\n",
    "actual_sig, actual_vk = parse_signature(sig_vk)\n",
    "\n",
    "print(\"Sig: \", actual_sig)\n",
    "print(\"vk: \", actual_vk)"
   ]
  },
  {
   "cell_type": "markdown",
   "metadata": {},
   "source": [
    "### 2. Function to generate bitcoin address from public key"
   ]
  },
  {
   "cell_type": "code",
   "execution_count": 78,
   "metadata": {},
   "outputs": [
    {
     "name": "stdout",
     "output_type": "stream",
     "text": [
      "Public address:  1LM4EZYkY8KcL1qrdi994NA9qayv1DtC5Q\n"
     ]
    }
   ],
   "source": [
    "from Crypto.Hash import SHA256\n",
    "from Crypto.Hash.RIPEMD import RIPEMD160Hash\n",
    "import base58\n",
    "\n",
    "def generate_bitcoin_address(pubkey):\n",
    "    \n",
    "    if len(public_key) != 64: \n",
    "        raise Exception(\"Please enter a\")\n",
    "\n",
    "    hash_1 = SHA256.new(pubkey).hexdigest() # Stage 1 \n",
    "    r160_hash_obj = RIPEMD160Hash() # Stage 2\n",
    "    r160_hash_obj.update(hash_1)    \n",
    "    hash_2 = r160_hash_obj.hexdigest()\n",
    "    hash_3 = \"00\" + hash_2 # Stage 3 \n",
    "\n",
    "    hash_4 = SHA256.new(str.encode(hash_3)).digest().hex() # Stage 4\n",
    "    hash_5 = SHA256.new(str.encode(hash_4)).digest() # Stage 5\n",
    "    checksum = hash_5[:4].hex() # Stage 6\n",
    "    \n",
    "    bit_address = hash_3 + checksum # Stage 7\n",
    "    return base58.b58encode(bytes.fromhex(bit_address)) # Stage 8\n",
    "\n",
    "public_addr = generate_bitcoin_address(vk.to_string())\n",
    "\n",
    "print(\"Public address: \", public_addr)"
   ]
  },
  {
   "cell_type": "markdown",
   "metadata": {},
   "source": [
    "### 3. Check the hash to confirm verification keys"
   ]
  },
  {
   "cell_type": "code",
   "execution_count": 79,
   "metadata": {},
   "outputs": [
    {
     "name": "stdout",
     "output_type": "stream",
     "text": [
      "The public key is valid!\n"
     ]
    }
   ],
   "source": [
    "if public_addr == generate_bitcoin_address(actual_vk): \n",
    "    print(\"The public key is valid!\")\n",
    "else: \n",
    "    print(\"This key is invalid\")\n"
   ]
  },
  {
   "cell_type": "markdown",
   "metadata": {},
   "source": [
    "### 4. Verify the contents of the document"
   ]
  },
  {
   "cell_type": "code",
   "execution_count": 90,
   "metadata": {},
   "outputs": [
    {
     "data": {
      "text/plain": [
       "True"
      ]
     },
     "execution_count": 90,
     "metadata": {},
     "output_type": "execute_result"
    }
   ],
   "source": [
    "from ecdsa import SigningKey, VerifyingKey, NIST384p\n",
    "\n",
    "txns = {\"Jimmy\": -50, \"Alice\": 50}\n",
    "unicode_json_txns = str.encode(json.dumps(txns))\n",
    "\n",
    "vk_obj = VerifyingKey.from_string(actual_vk, curve=SECP256k1)\n",
    "\n",
    "vk_obj.verify(actual_sig, unicode_json_txns)"
   ]
  },
  {
   "cell_type": "markdown",
   "metadata": {},
   "source": [
    "This is how you make do it!!"
   ]
  }
 ],
 "metadata": {
  "kernelspec": {
   "display_name": "Python 3",
   "language": "python",
   "name": "python3"
  },
  "language_info": {
   "codemirror_mode": {
    "name": "ipython",
    "version": 3
   },
   "file_extension": ".py",
   "mimetype": "text/x-python",
   "name": "python",
   "nbconvert_exporter": "python",
   "pygments_lexer": "ipython3",
   "version": "3.6.3"
  }
 },
 "nbformat": 4,
 "nbformat_minor": 2
}
