{
 "cells": [
  {
   "cell_type": "markdown",
   "metadata": {},
   "source": [
    "# Notebook 7: Creating digital signature with public key"
   ]
  },
  {
   "cell_type": "markdown",
   "metadata": {},
   "source": [
    "### 1. Signing transactions to create a digital signature appended with public key"
   ]
  },
  {
   "cell_type": "code",
   "execution_count": 1,
   "metadata": {
    "scrolled": false
   },
   "outputs": [
    {
     "name": "stdout",
     "output_type": "stream",
     "text": [
      "sk:  b')\\xea2Q\\xd4\\xb4su\\xf7pGS\"h\\x18\\x83\\xe7}7\\xcfrp\\xf2&\\x86\\x1e\\xb9\\xc94\\xcd!\\x9f'\n",
      "vk:  b'\\x02(\\x14O\\x88\\xddxU\\xe6\\xcd\\xf1\\x9c\\xc3F\\xb9\\xd2\\x90\\xdb\\xf3\\xcd5\\x0b\\\\\\x06T\\n\\xd9h\\xa9\\tp*\\xd0\\x0b\\x8bD)?\\xc7\\xcd\\x07\\x89\\xcd6}!!\\x96\\xa8$xL}\\x1c\\xef\\xf5\\xd0\\xcdS\\xd54*\\x18\\xa9'\n"
     ]
    }
   ],
   "source": [
    "from ecdsa import SigningKey, SECP256k1\n",
    "\n",
    "sk = SigningKey.generate(curve=SECP256k1)\n",
    "vk = sk.get_verifying_key()\n",
    "\n",
    "print(\"sk: \", sk.to_string())\n",
    "print(\"vk: \", vk.to_string())"
   ]
  },
  {
   "cell_type": "code",
   "execution_count": 2,
   "metadata": {},
   "outputs": [
    {
     "name": "stdout",
     "output_type": "stream",
     "text": [
      "Sig:  b'\\x92~GS\\xedlZk3\\xb6\\xc1I\\xaf\\xae\\xcbv#z\\xce1\\x03\\xa8x\\xb04O\\xd6\\xb5`\\xa6Z\\xe7G[\\xae\\xa3w\\xd8uo\\xf6\\r\\x94\\x84+\\xf2 \\xba\\xf7\\xdc\\xe0s^\\xe6\\x04\\x18PO3DHb\\xc8|'\n",
      "\n",
      "Sig_vk:\n",
      " 927e4753ed6c5a6b33b6c149afaecb76237ace3103a878b0344fd6b560a65ae7475baea377d8756ff60d94842bf220baf7dce0735ee60418504f33444862c87c0228144f88dd7855e6cdf19cc346b9d290dbf3cd350b5c06540ad968a909702ad00b8b44293fc7cd0789cd367d212196a824784c7d1ceff5d0cd53d5342a18a9\n"
     ]
    }
   ],
   "source": [
    "import json \n",
    "\n",
    "txns = {\"Jimmy\": -50, \"Alice\": 50}\n",
    "sig = sk.sign(str.encode(json.dumps(txns)))\n",
    "\n",
    "print(\"Sig: \", sig)\n",
    "\n",
    "# Combine signature with \n",
    "sig_vk = (sig + vk.to_string()).hex()\n",
    "print(\"\\nSig_vk:\\n\", sig_vk)"
   ]
  },
  {
   "cell_type": "code",
   "execution_count": 3,
   "metadata": {},
   "outputs": [
    {
     "name": "stdout",
     "output_type": "stream",
     "text": [
      "Sig:  b'\\x92~GS\\xedlZk3\\xb6\\xc1I\\xaf\\xae\\xcbv#z\\xce1\\x03\\xa8x\\xb04O\\xd6\\xb5`\\xa6Z\\xe7G[\\xae\\xa3w\\xd8uo\\xf6\\r\\x94\\x84+\\xf2 \\xba\\xf7\\xdc\\xe0s^\\xe6\\x04\\x18PO3DHb\\xc8|'\n",
      "vk:  b'\\x02(\\x14O\\x88\\xddxU\\xe6\\xcd\\xf1\\x9c\\xc3F\\xb9\\xd2\\x90\\xdb\\xf3\\xcd5\\x0b\\\\\\x06T\\n\\xd9h\\xa9\\tp*\\xd0\\x0b\\x8bD)?\\xc7\\xcd\\x07\\x89\\xcd6}!!\\x96\\xa8$xL}\\x1c\\xef\\xf5\\xd0\\xcdS\\xd54*\\x18\\xa9'\n"
     ]
    }
   ],
   "source": [
    "# Receiver: \n",
    "# - Receives signature in hexidecimal format \n",
    "# - Converts to bytes, seperates \n",
    "\n",
    "def parse_signature(hex_str): \n",
    "    sig_plus_vk = bytes.fromhex(hex_str)\n",
    "    return sig_plus_vk[:64], sig_plus_vk[64:]\n",
    "\n",
    "actual_sig, actual_vk = parse_signature(sig_vk)\n",
    "\n",
    "print(\"Sig: \", actual_sig)\n",
    "print(\"vk: \", actual_vk)"
   ]
  },
  {
   "cell_type": "markdown",
   "metadata": {},
   "source": [
    "### 2. Function to generate bitcoin address from public key"
   ]
  },
  {
   "cell_type": "code",
   "execution_count": 6,
   "metadata": {},
   "outputs": [
    {
     "name": "stdout",
     "output_type": "stream",
     "text": [
      "Public address:  1HBgFTJZ9VAnb4Cr4DYqH99cZngffzQiMd\n"
     ]
    }
   ],
   "source": [
    "from Crypto.Hash import SHA256\n",
    "from Crypto.Hash.RIPEMD import RIPEMD160Hash\n",
    "import base58\n",
    "\n",
    "def generate_bitcoin_address(pubkey):\n",
    "    \n",
    "    if len(pubkey) != 64: \n",
    "        raise Exception(\"Please enter a\")\n",
    "\n",
    "    hash_1 = SHA256.new(pubkey).hexdigest() # Stage 1 \n",
    "    r160_hash_obj = RIPEMD160Hash() # Stage 2\n",
    "    r160_hash_obj.update(hash_1)    \n",
    "    hash_2 = r160_hash_obj.hexdigest()\n",
    "    hash_3 = \"00\" + hash_2 # Stage 3 \n",
    "\n",
    "    hash_4 = SHA256.new(str.encode(hash_3)).digest().hex() # Stage 4\n",
    "    hash_5 = SHA256.new(str.encode(hash_4)).digest() # Stage 5\n",
    "    checksum = hash_5[:4].hex() # Stage 6\n",
    "    \n",
    "    bit_address = hash_3 + checksum # Stage 7\n",
    "    return base58.b58encode(bytes.fromhex(bit_address)) # Stage 8\n",
    "\n",
    "public_addr = generate_bitcoin_address(vk.to_string())\n",
    "\n",
    "print(\"Public address: \", public_addr)"
   ]
  },
  {
   "cell_type": "code",
   "execution_count": 11,
   "metadata": {},
   "outputs": [
    {
     "data": {
      "text/plain": [
       "b'\\x02(\\x14O\\x88\\xddxU\\xe6\\xcd\\xf1\\x9c\\xc3F\\xb9\\xd2\\x90\\xdb\\xf3\\xcd5\\x0b\\\\\\x06T\\n\\xd9h\\xa9\\tp*\\xd0\\x0b\\x8bD)?\\xc7\\xcd\\x07\\x89\\xcd6}!!\\x96\\xa8$xL}\\x1c\\xef\\xf5\\xd0\\xcdS\\xd54*\\x18\\xa9'"
      ]
     },
     "execution_count": 11,
     "metadata": {},
     "output_type": "execute_result"
    }
   ],
   "source": [
    "vk.to_string()"
   ]
  },
  {
   "cell_type": "markdown",
   "metadata": {},
   "source": [
    "### 3. Check the hash to confirm verification keys"
   ]
  },
  {
   "cell_type": "code",
   "execution_count": 7,
   "metadata": {},
   "outputs": [
    {
     "name": "stdout",
     "output_type": "stream",
     "text": [
      "The public key is valid!\n"
     ]
    }
   ],
   "source": [
    "if public_addr == generate_bitcoin_address(actual_vk): \n",
    "    print(\"The public key is valid!\")\n",
    "else: \n",
    "    print(\"This key is invalid\")\n"
   ]
  },
  {
   "cell_type": "markdown",
   "metadata": {},
   "source": [
    "### 4. Verify the contents of the document"
   ]
  },
  {
   "cell_type": "code",
   "execution_count": 8,
   "metadata": {},
   "outputs": [
    {
     "data": {
      "text/plain": [
       "True"
      ]
     },
     "execution_count": 8,
     "metadata": {},
     "output_type": "execute_result"
    }
   ],
   "source": [
    "from ecdsa import SigningKey, VerifyingKey, NIST384p\n",
    "\n",
    "txns = {\"Jimmy\": -50, \"Alice\": 50}\n",
    "unicode_json_txns = str.encode(json.dumps(txns))\n",
    "\n",
    "vk_obj = VerifyingKey.from_string(actual_vk, curve=SECP256k1)\n",
    "\n",
    "vk_obj.verify(actual_sig, unicode_json_txns)"
   ]
  },
  {
   "cell_type": "markdown",
   "metadata": {},
   "source": [
    "This is how you make do it!!"
   ]
  }
 ],
 "metadata": {
  "kernelspec": {
   "display_name": "Python 3",
   "language": "python",
   "name": "python3"
  },
  "language_info": {
   "codemirror_mode": {
    "name": "ipython",
    "version": 3
   },
   "file_extension": ".py",
   "mimetype": "text/x-python",
   "name": "python",
   "nbconvert_exporter": "python",
   "pygments_lexer": "ipython3",
   "version": "3.6.3"
  }
 },
 "nbformat": 4,
 "nbformat_minor": 2
}
