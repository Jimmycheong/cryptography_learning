{
 "cells": [
  {
   "cell_type": "markdown",
   "metadata": {},
   "source": [
    "# Public & Private key generation"
   ]
  },
  {
   "cell_type": "markdown",
   "metadata": {},
   "source": [
    "References: \n",
    "- https://gist.github.com/lkdocs/6519378"
   ]
  },
  {
   "cell_type": "markdown",
   "metadata": {},
   "source": [
    "## Example of RSA key pair generation"
   ]
  },
  {
   "cell_type": "code",
   "execution_count": 6,
   "metadata": {},
   "outputs": [],
   "source": [
    "def generate_RSA(bits=2048):\n",
    "    '''\n",
    "    Generate an RSA keypair with an exponent of 65537 in PEM format\n",
    "    param: bits The key length in bits\n",
    "    Return private key and public key\n",
    "    '''\n",
    "    from Crypto.PublicKey import RSA \n",
    "    new_key = RSA.generate(bits, e=65537) \n",
    "    public_key = new_key.publickey().exportKey(\"PEM\") \n",
    "    private_key = new_key.exportKey(\"PEM\") \n",
    "    return private_key, public_key\n",
    "\n",
    "sign_key, verification_key = generate_RSA()"
   ]
  },
  {
   "cell_type": "markdown",
   "metadata": {},
   "source": [
    "## How to create and write public and private keys"
   ]
  },
  {
   "cell_type": "code",
   "execution_count": 40,
   "metadata": {},
   "outputs": [],
   "source": [
    "from Crypto.PublicKey import RSA \n",
    "key = RSA.generate(bits) \n",
    "public_key = key.publickey().exportKey(\"PEM\")\n",
    "private_key = key.exportKey(\"PEM\") \n",
    "\n",
    "with open('private.pem', \"wb\") as file:\n",
    "    file.write(key.exportKey())\n",
    "\n",
    "with open('public.pem', \"wb\") as file:\n",
    "    file.write(key.publickey().exportKey())\n"
   ]
  },
  {
   "cell_type": "code",
   "execution_count": 42,
   "metadata": {},
   "outputs": [],
   "source": [
    "from Crypto.PublicKey import RSA \n",
    "\n",
    "# Import private key\n",
    "with open(\"private.pem\", \"rb\") as file:\n",
    "    pub_key = RSA.importKey(file.read())\n",
    "    \n",
    "# Import public key \n",
    "with open('public.pem', \"rb\") as file:\n",
    "    prv_key = RSA.importKey(file.read())"
   ]
  },
  {
   "cell_type": "markdown",
   "metadata": {},
   "source": [
    "## Signing and verifying"
   ]
  },
  {
   "cell_type": "markdown",
   "metadata": {},
   "source": [
    "Signing process: \n",
    "- Generate a hash of the message \n",
    "- Use the key to create a signer \n",
    "- Sign the hash to create a signature"
   ]
  },
  {
   "cell_type": "code",
   "execution_count": 51,
   "metadata": {
    "scrolled": true
   },
   "outputs": [],
   "source": [
    "from Crypto.Signature import PKCS1_v1_5\n",
    "from Crypto.PublicKey import RSA \n",
    "from Crypto.Hash import SHA\n",
    "\n",
    "message = \"To be signed\"\n",
    "with open(\"private.pem\", \"rb\") as file: \n",
    "    private_key = RSA.importKey(file.read())\n",
    "    \n",
    "hash_ = SHA.new(str.encode(message))\n",
    "signer = PKCS1_v1_5.new(private_key)\n",
    "\n",
    "signature = signer.sign(hash_)"
   ]
  },
  {
   "cell_type": "markdown",
   "metadata": {},
   "source": [
    "Verification process:\n",
    "\n",
    "- Import the public key \n",
    "- Hash the message \n",
    "- Create a verifier using the public key\n",
    "- Use the verifier to verify the hash"
   ]
  },
  {
   "cell_type": "code",
   "execution_count": 55,
   "metadata": {},
   "outputs": [
    {
     "data": {
      "text/plain": [
       "True"
      ]
     },
     "execution_count": 55,
     "metadata": {},
     "output_type": "execute_result"
    }
   ],
   "source": [
    "from Crypto.Signature import PKCS1_v1_5\n",
    "from Crypto.PublicKey import RSA \n",
    "from Crypto.Hash import SHA\n",
    "\n",
    "message = \"To be signed\"\n",
    "\n",
    "with open(\"public.pem\", \"rb\") as file:\n",
    "    public_key = RSA.importKey(file.read())\n",
    "\n",
    "hash_ = SHA.new(str.encode(message))\n",
    "verifier = PKCS1_v1_5.new(public_key)\n",
    "\n",
    "result = verifier.verify(hash_, signature)\n",
    "\n",
    "result"
   ]
  },
  {
   "cell_type": "code",
   "execution_count": null,
   "metadata": {
    "collapsed": true
   },
   "outputs": [],
   "source": [
    "\n",
    "\n",
    "\n",
    "\n",
    "\n",
    "\n",
    "\n",
    "\n",
    "\n",
    "\n",
    "\n",
    "\n",
    "\n",
    "\n",
    "\n",
    "\n",
    "\n",
    "\n",
    "\n",
    "\n",
    "\n",
    "\n",
    "\n",
    "\n",
    "\n",
    "\n",
    "\n",
    "\n",
    "\n",
    "\n",
    "\n",
    "\n",
    "\n"
   ]
  }
 ],
 "metadata": {
  "kernelspec": {
   "display_name": "Python 3",
   "language": "python",
   "name": "python3"
  },
  "language_info": {
   "codemirror_mode": {
    "name": "ipython",
    "version": 3
   },
   "file_extension": ".py",
   "mimetype": "text/x-python",
   "name": "python",
   "nbconvert_exporter": "python",
   "pygments_lexer": "ipython3",
   "version": "3.6.3"
  }
 },
 "nbformat": 4,
 "nbformat_minor": 2
}
