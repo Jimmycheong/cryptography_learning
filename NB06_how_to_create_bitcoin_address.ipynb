{
 "cells": [
  {
   "cell_type": "markdown",
   "metadata": {},
   "source": [
    "# How to create a Bitcoin address"
   ]
  },
  {
   "cell_type": "markdown",
   "metadata": {},
   "source": [
    "- Uses ECDSA keypair \n",
    "- Uses SHA-256 and RIPEMD-160 hashing algorithms\n",
    "- Uses Base58Check encoding on the 25-byte binary bitcoin address\n"
   ]
  },
  {
   "cell_type": "markdown",
   "metadata": {},
   "source": [
    "References: \n",
    "- https://en.bitcoin.it/wiki/Technical_background_of_version_1_Bitcoin_addresses\n",
    "- https://stackoverflow.com/questions/443967/how-to-create-python-bytes-object-from-long-hex-string"
   ]
  },
  {
   "cell_type": "markdown",
   "metadata": {},
   "source": [
    "### 1. Create a encryption key pair"
   ]
  },
  {
   "cell_type": "code",
   "execution_count": 1,
   "metadata": {
    "collapsed": true
   },
   "outputs": [],
   "source": [
    "from ecdsa import SigningKey, SECP256k1\n",
    "\n",
    "sk = SigningKey.generate(curve=SECP256k1)\n",
    "vk = sk.get_verifying_key()"
   ]
  },
  {
   "cell_type": "code",
   "execution_count": 2,
   "metadata": {
    "scrolled": true
   },
   "outputs": [
    {
     "data": {
      "text/plain": [
       "b\"\\x8fg\\xd0\\x08;mHXsn\\x10\\xaab\\xbd3\\xcf-Z\\xd9\\xf2T\\xd1\\xb3[E\\xf8m'\\xd4d\\xc8\\xab\\xcf\\xd9\\xd8\\xed\\xd4d\\x9b\\x83^\\x93-\\xae\\xe3\\xdc\\x06c\\xde@\\xd4xA\\x9dE\\x1a\\xb3h;\\xd9\\xa2\\x00kP\""
      ]
     },
     "execution_count": 2,
     "metadata": {},
     "output_type": "execute_result"
    }
   ],
   "source": [
    "vk.to_string()"
   ]
  },
  {
   "cell_type": "code",
   "execution_count": 3,
   "metadata": {
    "scrolled": true
   },
   "outputs": [
    {
     "data": {
      "text/plain": [
       "'126fc1cd87feb4fc5347c4ebc53ba9dbeeea3a9a2df9ebc9ac64b4230a1d2c38'"
      ]
     },
     "execution_count": 3,
     "metadata": {},
     "output_type": "execute_result"
    }
   ],
   "source": [
    "sk_hex = sk.to_string().hex() # Private Key\n",
    "sk_hex"
   ]
  },
  {
   "cell_type": "code",
   "execution_count": 4,
   "metadata": {
    "scrolled": true
   },
   "outputs": [
    {
     "data": {
      "text/plain": [
       "'8f67d0083b6d4858736e10aa62bd33cf2d5ad9f254d1b35b45f86d27d464c8abcfd9d8edd4649b835e932daee3dc0663de40d478419d451ab3683bd9a2006b50'"
      ]
     },
     "execution_count": 4,
     "metadata": {},
     "output_type": "execute_result"
    }
   ],
   "source": [
    "vk_hex = vk.to_string().hex() # Public Key\n",
    "vk_hex"
   ]
  },
  {
   "cell_type": "markdown",
   "metadata": {},
   "source": [
    "### 2. Performing Hashing algorithms"
   ]
  },
  {
   "cell_type": "code",
   "execution_count": 5,
   "metadata": {},
   "outputs": [
    {
     "data": {
      "text/plain": [
       "'18b0cf9ec80985cdfabd402706d4545c00feae14f30cd3347722e3bb9c30f85d'"
      ]
     },
     "execution_count": 5,
     "metadata": {},
     "output_type": "execute_result"
    }
   ],
   "source": [
    "# Stage 2: Perform first hash using SHA256\n",
    "from Crypto.Hash import SHA256\n",
    "\n",
    "hash_obj = SHA256.new(str.encode(vk_hex))\n",
    "hash_1 = hash_obj.digest()\n",
    "\n",
    "hash_1.hex() # len of 64"
   ]
  },
  {
   "cell_type": "code",
   "execution_count": 6,
   "metadata": {},
   "outputs": [
    {
     "data": {
      "text/plain": [
       "'4c9e4d6a9eb1d52e65e7b431201a207bb43b7230'"
      ]
     },
     "execution_count": 6,
     "metadata": {},
     "output_type": "execute_result"
    }
   ],
   "source": [
    "# Stage 3: Perform 2nd hash using SHA RIPEMD-160 \n",
    "\n",
    "from Crypto.Hash.RIPEMD import RIPEMD160Hash\n",
    "\n",
    "RIPEMD160_hash_obj = RIPEMD160Hash()\n",
    "RIPEMD160_hash_obj.update(hash_1)\n",
    "hash_2 = RIPEMD160_hash_obj.digest()\n",
    "\n",
    "hash_2.hex()"
   ]
  },
  {
   "cell_type": "code",
   "execution_count": 7,
   "metadata": {},
   "outputs": [
    {
     "data": {
      "text/plain": [
       "'004c9e4d6a9eb1d52e65e7b431201a207bb43b7230'"
      ]
     },
     "execution_count": 7,
     "metadata": {},
     "output_type": "execute_result"
    }
   ],
   "source": [
    "# Stage 4: Add version byte in front of RIPEMD-160 hash (0x00 for Main Network)\n",
    "\n",
    "hash_3 = \"00\" + hash_2.hex()\n",
    "\n",
    "hash_3"
   ]
  },
  {
   "cell_type": "code",
   "execution_count": 8,
   "metadata": {},
   "outputs": [
    {
     "data": {
      "text/plain": [
       "'e553c5a12e0b01b320ea2291a719989d32165b7c3fe007eacbbe2b5324866379'"
      ]
     },
     "execution_count": 8,
     "metadata": {},
     "output_type": "execute_result"
    }
   ],
   "source": [
    "# Stage 5: Perform SHA-256 Hash on extended RIPEMD-160 result\n",
    "\n",
    "hash_4 = SHA256.new(str.encode(hash_3)).digest()\n",
    "\n",
    "hash_4.hex()"
   ]
  },
  {
   "cell_type": "code",
   "execution_count": 9,
   "metadata": {},
   "outputs": [
    {
     "data": {
      "text/plain": [
       "'3e43aa918db60ca1aa902f512c657b389d6fae3814f53e01ecd47646154aee9c'"
      ]
     },
     "execution_count": 9,
     "metadata": {},
     "output_type": "execute_result"
    }
   ],
   "source": [
    "# Stage 6: Perform SHA-256 Hash on the previous result \n",
    "\n",
    "hash_5 = SHA256.new(hash_4).digest()\n",
    "\n",
    "hash_5.hex()"
   ]
  },
  {
   "cell_type": "code",
   "execution_count": 10,
   "metadata": {},
   "outputs": [
    {
     "data": {
      "text/plain": [
       "'3e43aa91'"
      ]
     },
     "execution_count": 10,
     "metadata": {},
     "output_type": "execute_result"
    }
   ],
   "source": [
    "# Stage 7 : Take first 4 bytes to create the address checksum\n",
    "\n",
    "checksum = hash_5[:4].hex()\n",
    "\n",
    "checksum"
   ]
  },
  {
   "cell_type": "code",
   "execution_count": 11,
   "metadata": {
    "scrolled": true
   },
   "outputs": [
    {
     "name": "stdout",
     "output_type": "stream",
     "text": [
      "25-byte binary bitcoin address:\n",
      "'004c9e4d6a9eb1d52e65e7b431201a207bb43b72303e43aa91'\n"
     ]
    }
   ],
   "source": [
    "# Stage 8: Add the checksum to the extended RIPEMD-160 at the end of stage 4\n",
    "\n",
    "bit_address = hash_3 + checksum \n",
    "\n",
    "print(\"25-byte binary bitcoin address:\\n'{}'\".format(bit_address))\n"
   ]
  },
  {
   "cell_type": "code",
   "execution_count": 12,
   "metadata": {},
   "outputs": [
    {
     "data": {
      "text/plain": [
       "b'\\x00L\\x9eMj\\x9e\\xb1\\xd5.e\\xe7\\xb41 \\x1a {\\xb4;r0>C\\xaa\\x91'"
      ]
     },
     "execution_count": 12,
     "metadata": {},
     "output_type": "execute_result"
    }
   ],
   "source": [
    "bytes.fromhex(bit_address)"
   ]
  },
  {
   "cell_type": "code",
   "execution_count": 13,
   "metadata": {},
   "outputs": [
    {
     "data": {
      "text/plain": [
       "'17z7zd9dfbaz4MjKqVd1h9Q5yZT2evhMkL'"
      ]
     },
     "execution_count": 13,
     "metadata": {},
     "output_type": "execute_result"
    }
   ],
   "source": [
    "# Stage 9: Convert the result from a byte string into a base58 string\n",
    "# using Base58Check encoding. This is the most commonly used bitcoin address format\n",
    "import base58\n",
    "\n",
    "address = base58.b58encode(bytes.fromhex(bit_address))\n",
    "\n",
    "address"
   ]
  },
  {
   "cell_type": "markdown",
   "metadata": {},
   "source": [
    "### 3. Create functions to generate the a bitcoin address"
   ]
  },
  {
   "cell_type": "code",
   "execution_count": 66,
   "metadata": {
    "collapsed": true
   },
   "outputs": [],
   "source": [
    "# TODO \n",
    "\n",
    "def generate_bitcoin_address():\n",
    "    pass\n"
   ]
  }
 ],
 "metadata": {
  "kernelspec": {
   "display_name": "Python 3",
   "language": "python",
   "name": "python3"
  },
  "language_info": {
   "codemirror_mode": {
    "name": "ipython",
    "version": 3
   },
   "file_extension": ".py",
   "mimetype": "text/x-python",
   "name": "python",
   "nbconvert_exporter": "python",
   "pygments_lexer": "ipython3",
   "version": "3.6.3"
  }
 },
 "nbformat": 4,
 "nbformat_minor": 2
}
