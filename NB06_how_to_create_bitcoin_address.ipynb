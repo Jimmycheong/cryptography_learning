{
 "cells": [
  {
   "cell_type": "markdown",
   "metadata": {},
   "source": [
    "# How to create a Bitcoin address"
   ]
  },
  {
   "cell_type": "markdown",
   "metadata": {},
   "source": [
    "- Uses ECDSA keypair \n",
    "- Uses SHA-256 and RIPEMD-160 hashing algorithms\n",
    "- Uses Base58Check encoding on the 25-byte binary bitcoin address\n"
   ]
  },
  {
   "cell_type": "markdown",
   "metadata": {},
   "source": [
    "References: \n",
    "- https://en.bitcoin.it/wiki/Technical_background_of_version_1_Bitcoin_addresses\n",
    "- https://stackoverflow.com/questions/443967/how-to-create-python-bytes-object-from-long-hex-string"
   ]
  },
  {
   "cell_type": "markdown",
   "metadata": {},
   "source": [
    "### 1. Create a encryption key pair"
   ]
  },
  {
   "cell_type": "code",
   "execution_count": 1,
   "metadata": {
    "collapsed": true
   },
   "outputs": [],
   "source": [
    "from ecdsa import SigningKey, SECP256k1\n",
    "\n",
    "sk = SigningKey.generate(curve=SECP256k1)\n",
    "vk = sk.get_verifying_key()"
   ]
  },
  {
   "cell_type": "code",
   "execution_count": 2,
   "metadata": {
    "scrolled": true
   },
   "outputs": [
    {
     "data": {
      "text/plain": [
       "b'?\\x08\\xc0o\\xc4\\x14\\xf2\\xa6Yi\\xff\\xabZ<\\xe6\\xa6\\xe8s \\xc8\\xaf\\xc2\\xc9\\xd8\\xe4>\\x8e\\x1d*W\\x14s\\xcd\\xfe]\\x88\\xf3\\xacU\\xac\\xd5\\xa5J\\xed\\xcf\\x9d2}\\xecJG\\xef\\xad\\xc8\\x06\\x02Q\\x92\\xac\\x1e,<\\xbb\\x00'"
      ]
     },
     "execution_count": 2,
     "metadata": {},
     "output_type": "execute_result"
    }
   ],
   "source": [
    "vk.to_string()"
   ]
  },
  {
   "cell_type": "code",
   "execution_count": 3,
   "metadata": {
    "scrolled": true
   },
   "outputs": [
    {
     "data": {
      "text/plain": [
       "'68b73384c8a43cbdddde3a99795b302fd5adb17877fb4a63b16b18cd34d224ad'"
      ]
     },
     "execution_count": 3,
     "metadata": {},
     "output_type": "execute_result"
    }
   ],
   "source": [
    "sk_hex = sk.to_string().hex() # Private Key\n",
    "sk_hex"
   ]
  },
  {
   "cell_type": "code",
   "execution_count": 4,
   "metadata": {
    "scrolled": true
   },
   "outputs": [
    {
     "data": {
      "text/plain": [
       "'3f08c06fc414f2a65969ffab5a3ce6a6e87320c8afc2c9d8e43e8e1d2a571473cdfe5d88f3ac55acd5a54aedcf9d327dec4a47efadc806025192ac1e2c3cbb00'"
      ]
     },
     "execution_count": 4,
     "metadata": {},
     "output_type": "execute_result"
    }
   ],
   "source": [
    "vk_hex = vk.to_string().hex() # Public Key\n",
    "vk_hex"
   ]
  },
  {
   "cell_type": "markdown",
   "metadata": {},
   "source": [
    "### 2. Performing Hashing algorithms"
   ]
  },
  {
   "cell_type": "code",
   "execution_count": 5,
   "metadata": {},
   "outputs": [
    {
     "data": {
      "text/plain": [
       "'7b4de75581a4f2aecdae0a06731efaca00cc1460db62b4b0fd243be250574c28'"
      ]
     },
     "execution_count": 5,
     "metadata": {},
     "output_type": "execute_result"
    }
   ],
   "source": [
    "# Stage 2: Perform first hash using SHA256\n",
    "from Crypto.Hash import SHA256\n",
    "\n",
    "hash_obj = SHA256.new(str.encode(vk_hex))\n",
    "hash_1 = hash_obj.digest()\n",
    "\n",
    "hash_1.hex() # len of 64"
   ]
  },
  {
   "cell_type": "code",
   "execution_count": 6,
   "metadata": {},
   "outputs": [
    {
     "data": {
      "text/plain": [
       "'734c4150fba7867974e70da7d3dc9f85d664b1b4'"
      ]
     },
     "execution_count": 6,
     "metadata": {},
     "output_type": "execute_result"
    }
   ],
   "source": [
    "# Stage 3: Perform 2nd hash using SHA RIPEMD-160 \n",
    "\n",
    "from Crypto.Hash.RIPEMD import RIPEMD160Hash\n",
    "\n",
    "RIPEMD160_hash_obj = RIPEMD160Hash()\n",
    "RIPEMD160_hash_obj.update(hash_1)\n",
    "hash_2 = RIPEMD160_hash_obj.digest()\n",
    "\n",
    "hash_2.hex()"
   ]
  },
  {
   "cell_type": "code",
   "execution_count": 7,
   "metadata": {},
   "outputs": [
    {
     "data": {
      "text/plain": [
       "'00734c4150fba7867974e70da7d3dc9f85d664b1b4'"
      ]
     },
     "execution_count": 7,
     "metadata": {},
     "output_type": "execute_result"
    }
   ],
   "source": [
    "# Stage 4: Add version byte in front of RIPEMD-160 hash (0x00 for Main Network)\n",
    "\n",
    "hash_3 = \"00\" + hash_2.hex()\n",
    "\n",
    "hash_3"
   ]
  },
  {
   "cell_type": "code",
   "execution_count": 8,
   "metadata": {},
   "outputs": [
    {
     "data": {
      "text/plain": [
       "'cfce04423dc2207ab2679477a0d1f227c77a9c92760ed06c8df92592e7249f62'"
      ]
     },
     "execution_count": 8,
     "metadata": {},
     "output_type": "execute_result"
    }
   ],
   "source": [
    "# Stage 5: Perform SHA-256 Hash on extended RIPEMD-160 result\n",
    "\n",
    "hash_4 = SHA256.new(str.encode(hash_3)).digest()\n",
    "\n",
    "hash_4.hex()"
   ]
  },
  {
   "cell_type": "code",
   "execution_count": 9,
   "metadata": {},
   "outputs": [
    {
     "data": {
      "text/plain": [
       "'42d9b80f42c4fdf38b1a3e84175d107ede58f73b73176f73aeade531862e1240'"
      ]
     },
     "execution_count": 9,
     "metadata": {},
     "output_type": "execute_result"
    }
   ],
   "source": [
    "# Stage 6: Perform SHA-256 Hash on the previous result \n",
    "\n",
    "hash_5 = SHA256.new(hash_4).digest()\n",
    "\n",
    "hash_5.hex()"
   ]
  },
  {
   "cell_type": "code",
   "execution_count": 10,
   "metadata": {},
   "outputs": [
    {
     "data": {
      "text/plain": [
       "'42d9b80f'"
      ]
     },
     "execution_count": 10,
     "metadata": {},
     "output_type": "execute_result"
    }
   ],
   "source": [
    "# Stage 7 : Take first 4 bytes to create the address checksum\n",
    "\n",
    "checksum = hash_5[:4].hex()\n",
    "\n",
    "checksum"
   ]
  },
  {
   "cell_type": "code",
   "execution_count": 11,
   "metadata": {
    "scrolled": true
   },
   "outputs": [
    {
     "name": "stdout",
     "output_type": "stream",
     "text": [
      "25-byte binary bitcoin address:\n",
      "'00734c4150fba7867974e70da7d3dc9f85d664b1b442d9b80f'\n"
     ]
    }
   ],
   "source": [
    "# Stage 8: Add the checksum to the extended RIPEMD-160 at the end of stage 4\n",
    "\n",
    "bit_address = hash_3 + checksum \n",
    "\n",
    "print(\"25-byte binary bitcoin address:\\n'{}'\".format(bit_address))\n"
   ]
  },
  {
   "cell_type": "code",
   "execution_count": 13,
   "metadata": {},
   "outputs": [
    {
     "data": {
      "text/plain": [
       "'1BWe4MvDUeq7yjsP5PcR64c85xAPm2spEa'"
      ]
     },
     "execution_count": 13,
     "metadata": {},
     "output_type": "execute_result"
    }
   ],
   "source": [
    "# Stage 9: Convert the result from a byte string into a base58 string\n",
    "# using Base58Check encoding. This is the most commonly used bitcoin address format\n",
    "import base58\n",
    "\n",
    "address = base58.b58encode(bytes.fromhex(bit_address))\n",
    "\n",
    "address"
   ]
  },
  {
   "cell_type": "markdown",
   "metadata": {},
   "source": [
    "### 3. Is bitcoin address of a valid format? "
   ]
  },
  {
   "cell_type": "code",
   "execution_count": 14,
   "metadata": {},
   "outputs": [
    {
     "data": {
      "text/plain": [
       "True"
      ]
     },
     "execution_count": 14,
     "metadata": {},
     "output_type": "execute_result"
    }
   ],
   "source": [
    "import base58\n",
    "from Crypto.Hash import SHA256\n",
    "from Crypto.Hash.RIPEMD import RIPEMD160Hash\n",
    "\n",
    "def generate_checksum(hash_): \n",
    "    hash_1 = SHA256.new(str.encode(hash_)).digest().hex() \n",
    "    hash_2 = SHA256.new(str.encode(hash_1)).digest() \n",
    "    return hash_2[:4].hex() # Checksum\n",
    "\n",
    "def is_valid_addr(pub_addr):\n",
    "    binary_addr = base58.b58decode(pub_addr)\n",
    "    checksum = binary_addr[-4:].hex()    \n",
    "    if checksum == generate_checksum(binary_addr[:-4].hex()):\n",
    "        return True\n",
    "    else:\n",
    "        return False\n",
    "\n",
    "pub_addr = '185tFGDXv9tAVYiXWGDF6Ce4An5D95oWNP'  \n",
    "is_valid_addr(pub_addr)"
   ]
  }
 ],
 "metadata": {
  "kernelspec": {
   "display_name": "Python 3",
   "language": "python",
   "name": "python3"
  },
  "language_info": {
   "codemirror_mode": {
    "name": "ipython",
    "version": 3
   },
   "file_extension": ".py",
   "mimetype": "text/x-python",
   "name": "python",
   "nbconvert_exporter": "python",
   "pygments_lexer": "ipython3",
   "version": "3.6.3"
  }
 },
 "nbformat": 4,
 "nbformat_minor": 2
}
