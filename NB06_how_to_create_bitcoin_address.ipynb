{
 "cells": [
  {
   "cell_type": "markdown",
   "metadata": {},
   "source": [
    "# How to create a Bitcoin address"
   ]
  },
  {
   "cell_type": "markdown",
   "metadata": {},
   "source": [
    "- Uses ECDSA keypair \n",
    "- Uses SHA-256 and RIPEMD-160 hashing algorithms\n",
    "- Uses Base58Check encoding on the 25-byte binary bitcoin address\n"
   ]
  },
  {
   "cell_type": "markdown",
   "metadata": {},
   "source": [
    "References: \n",
    "- https://en.bitcoin.it/wiki/Technical_background_of_version_1_Bitcoin_addresses\n",
    "- https://stackoverflow.com/questions/443967/how-to-create-python-bytes-object-from-long-hex-string"
   ]
  },
  {
   "cell_type": "markdown",
   "metadata": {},
   "source": [
    "### 1. Create a encryption key pair"
   ]
  },
  {
   "cell_type": "code",
   "execution_count": 1,
   "metadata": {
    "collapsed": true
   },
   "outputs": [],
   "source": [
    "from ecdsa import SigningKey, SECP256k1\n",
    "\n",
    "sk = SigningKey.generate(curve=SECP256k1)\n",
    "vk = sk.get_verifying_key()\n",
    "\n",
    "sk_str = sk.to_string().hex()"
   ]
  },
  {
   "cell_type": "code",
   "execution_count": 2,
   "metadata": {
    "scrolled": true
   },
   "outputs": [
    {
     "data": {
      "text/plain": [
       "'3052733a3d8c2ae35221ca40837f9b37b4554d70777f7adfb31600d79d12ab23'"
      ]
     },
     "execution_count": 2,
     "metadata": {},
     "output_type": "execute_result"
    }
   ],
   "source": [
    "sk_str #Private"
   ]
  },
  {
   "cell_type": "code",
   "execution_count": 3,
   "metadata": {},
   "outputs": [
    {
     "data": {
      "text/plain": [
       "'75b4f2d6a453667f13e8bdef7c250c7fd908cc13ecba988eedf638168869b3938aa95030bf95bdd6e554faad51c314e2a9d5703d5b9b7531c961c2d326e9b68c'"
      ]
     },
     "execution_count": 3,
     "metadata": {},
     "output_type": "execute_result"
    }
   ],
   "source": [
    "vk.to_string().hex()"
   ]
  },
  {
   "cell_type": "markdown",
   "metadata": {},
   "source": [
    "### 2. Performing Hashing algorithms"
   ]
  },
  {
   "cell_type": "code",
   "execution_count": 4,
   "metadata": {
    "collapsed": true
   },
   "outputs": [],
   "source": [
    "# Stage 1: \n",
    "\n",
    "private_key = 'fc40f69bd646005c31b04d6f098a77b0f46371ac2b07ba0e6064f1f94a587b43'\n",
    "public_key = 'c90c481484a15f3d7feff6dcf5f2e73a91790e73ea519ba03f1d2054fb899d73e14368230222c74caf624b181e319ec1103b2360aa0ec53e66b6a092f9d435ff'"
   ]
  },
  {
   "cell_type": "code",
   "execution_count": 5,
   "metadata": {},
   "outputs": [
    {
     "data": {
      "text/plain": [
       "'9bfe85ff58fad79bba0cdee3737abfba8d3e29020a48eb0d06c6018ced6e18ae'"
      ]
     },
     "execution_count": 5,
     "metadata": {},
     "output_type": "execute_result"
    }
   ],
   "source": [
    "# Stage 2: Perform first hash using SHA256\n",
    "from Crypto.Hash import SHA256\n",
    "\n",
    "hash_obj = SHA256.new(str.encode(public_key))\n",
    "hash_1 = hash_obj.digest()\n",
    "\n",
    "hash_1.hex() # len of 64"
   ]
  },
  {
   "cell_type": "code",
   "execution_count": 6,
   "metadata": {},
   "outputs": [
    {
     "data": {
      "text/plain": [
       "'9c1185a5c5e9fc54612808977ee8f548b2258d31'"
      ]
     },
     "execution_count": 6,
     "metadata": {},
     "output_type": "execute_result"
    }
   ],
   "source": [
    "# Stage 3: Perform 2nd hash using SHA RIPEMD-160 \n",
    "\n",
    "from Crypto.Hash.RIPEMD import RIPEMD160Hash\n",
    "\n",
    "RIPEMD160_hash = RIPEMD160Hash.new(hash_1)\n",
    "hash_2 = RIPEMD160_hash.digest()\n",
    "\n",
    "hash_2.hex()"
   ]
  },
  {
   "cell_type": "code",
   "execution_count": 7,
   "metadata": {},
   "outputs": [
    {
     "data": {
      "text/plain": [
       "'009c1185a5c5e9fc54612808977ee8f548b2258d31'"
      ]
     },
     "execution_count": 7,
     "metadata": {},
     "output_type": "execute_result"
    }
   ],
   "source": [
    "# Stage 4: Add version byte in front of RIPEMD-160 hash (0x00 for Main Network)\n",
    "\n",
    "hash_3 = \"00\" + hash_2.hex()\n",
    "\n",
    "hash_3"
   ]
  },
  {
   "cell_type": "code",
   "execution_count": 8,
   "metadata": {},
   "outputs": [
    {
     "data": {
      "text/plain": [
       "'0dda4ac0c0cc11b8a40f4c46c82e337cf41f3450fd29301de92a76157e611996'"
      ]
     },
     "execution_count": 8,
     "metadata": {},
     "output_type": "execute_result"
    }
   ],
   "source": [
    "# Stage 5: Perform SHA-256 Hash on extended RIPEMD-160 result\n",
    "\n",
    "hash_4 = SHA256.new(str.encode(hash_3)).digest()\n",
    "\n",
    "hash_4.hex()"
   ]
  },
  {
   "cell_type": "code",
   "execution_count": 9,
   "metadata": {},
   "outputs": [
    {
     "data": {
      "text/plain": [
       "'7ee6db297c1e7330e01810f1c04eef918404910750694f4f5cb665ca1e84a0cd'"
      ]
     },
     "execution_count": 9,
     "metadata": {},
     "output_type": "execute_result"
    }
   ],
   "source": [
    "# Stage 6: Perform SHA-256 Hash on the previous result \n",
    "\n",
    "hash_5 = SHA256.new(hash_4).digest()\n",
    "\n",
    "hash_5.hex()"
   ]
  },
  {
   "cell_type": "code",
   "execution_count": 10,
   "metadata": {},
   "outputs": [
    {
     "data": {
      "text/plain": [
       "'7ee6db29'"
      ]
     },
     "execution_count": 10,
     "metadata": {},
     "output_type": "execute_result"
    }
   ],
   "source": [
    "# Stage 7 : Take first 4 bytes to create the address checksum\n",
    "\n",
    "checksum = hash_5[:4].hex()\n",
    "\n",
    "checksum"
   ]
  },
  {
   "cell_type": "code",
   "execution_count": 11,
   "metadata": {
    "scrolled": true
   },
   "outputs": [
    {
     "name": "stdout",
     "output_type": "stream",
     "text": [
      "25-byte binary bitcoin address:\n",
      "'009c1185a5c5e9fc54612808977ee8f548b2258d317ee6db29'\n"
     ]
    }
   ],
   "source": [
    "# Stage 8: Add the checksum to the extended RIPEMD-160 at the end of stage 4\n",
    "\n",
    "bit_address = hash_3 + checksum \n",
    "\n",
    "print(\"25-byte binary bitcoin address:\\n'{}'\".format(bit_address))\n"
   ]
  },
  {
   "cell_type": "code",
   "execution_count": 12,
   "metadata": {},
   "outputs": [
    {
     "data": {
      "text/plain": [
       "b'\\x00\\x9c\\x11\\x85\\xa5\\xc5\\xe9\\xfcTa(\\x08\\x97~\\xe8\\xf5H\\xb2%\\x8d1~\\xe6\\xdb)'"
      ]
     },
     "execution_count": 12,
     "metadata": {},
     "output_type": "execute_result"
    }
   ],
   "source": [
    "bytes.fromhex(bit_address)"
   ]
  },
  {
   "cell_type": "code",
   "execution_count": 13,
   "metadata": {},
   "outputs": [
    {
     "data": {
      "text/plain": [
       "'1FEDQP2D5zmpRXRG5zQn7vYVs4JVHd59fE'"
      ]
     },
     "execution_count": 13,
     "metadata": {},
     "output_type": "execute_result"
    }
   ],
   "source": [
    "# Stage 9: Convert the result from a byte string into a base58 string\n",
    "# using Base58Check encoding. This is the most commonly used bitcoin address format\n",
    "import base58\n",
    "\n",
    "address = base58.b58encode(bytes.fromhex(bit_address))\n",
    "\n",
    "address"
   ]
  },
  {
   "cell_type": "markdown",
   "metadata": {},
   "source": [
    "### 3. Create functions to generate the a bitcoin address"
   ]
  },
  {
   "cell_type": "code",
   "execution_count": 66,
   "metadata": {
    "collapsed": true
   },
   "outputs": [],
   "source": [
    "# TODO "
   ]
  }
 ],
 "metadata": {
  "kernelspec": {
   "display_name": "Python 3",
   "language": "python",
   "name": "python3"
  },
  "language_info": {
   "codemirror_mode": {
    "name": "ipython",
    "version": 3
   },
   "file_extension": ".py",
   "mimetype": "text/x-python",
   "name": "python",
   "nbconvert_exporter": "python",
   "pygments_lexer": "ipython3",
   "version": "3.6.3"
  }
 },
 "nbformat": 4,
 "nbformat_minor": 2
}
