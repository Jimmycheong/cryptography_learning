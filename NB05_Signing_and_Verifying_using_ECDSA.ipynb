{
 "cells": [
  {
   "cell_type": "markdown",
   "metadata": {},
   "source": [
    "### Signing and verifying using ECDSA\n",
    "\n",
    "Learning to use the python library python-ecdsa"
   ]
  },
  {
   "cell_type": "markdown",
   "metadata": {},
   "source": [
    "References:\n",
    "- https://github.com/warner/python-ecdsa\n",
    "- https://en.bitcoin.it/wiki/Technical_background_of_version_1_Bitcoin_addresses\n",
    "- https://stackoverflow.com/questions/34451214/how-to-sign-and-verify-signature-with-ecdsa-in-python"
   ]
  },
  {
   "cell_type": "markdown",
   "metadata": {},
   "source": [
    "### 1. Creating simple key pair "
   ]
  },
  {
   "cell_type": "code",
   "execution_count": 3,
   "metadata": {},
   "outputs": [
    {
     "data": {
      "text/plain": [
       "True"
      ]
     },
     "execution_count": 3,
     "metadata": {},
     "output_type": "execute_result"
    }
   ],
   "source": [
    "from ecdsa import SigningKey\n",
    "\n",
    "sk = SigningKey.generate(curve=ecdsa.SECP256k1)\n",
    "\n",
    "vk = sk.get_verifying_key()\n",
    "sig = sk.sign(b\"This is a message\")\n",
    "result = vk.verify(sig, b\"This is a message\")\n",
    "\n",
    "result"
   ]
  },
  {
   "cell_type": "code",
   "execution_count": 4,
   "metadata": {},
   "outputs": [
    {
     "data": {
      "text/plain": [
       "b'\\x8f{p\\xdee\\xc7\\xa6\\xe2e\\x06\\x99\\xae\\xeb\\x0e\\xd0nv\\xf5\\xffSq\\x00mP\\x06\\x03\\xa1\\x10\\x96\\x18\\x7fW'"
      ]
     },
     "execution_count": 4,
     "metadata": {},
     "output_type": "execute_result"
    }
   ],
   "source": [
    "sk.to_string() # Public address"
   ]
  },
  {
   "cell_type": "code",
   "execution_count": 6,
   "metadata": {},
   "outputs": [
    {
     "data": {
      "text/plain": [
       "b'\\x92r\\x98\\x96\\xc6\\xe7\\xb0o\\xe9\\xab\\x7f\\x08\\xdf\\xc9\\xc4\\x05\\xae%\\x86yw\\x8fI\\x05$\\xbd\\x7fw[\\xabt\\x00M?,n\\xee\\x12yHG\\xdb\\xd6#\\xd3\\x19\\x96At\\x88\\x815\\xe4\\xb7&\\t8\\xb8uiB\\x160\\xbc'"
      ]
     },
     "execution_count": 6,
     "metadata": {},
     "output_type": "execute_result"
    }
   ],
   "source": [
    "vk.to_string() # Private key"
   ]
  },
  {
   "cell_type": "markdown",
   "metadata": {},
   "source": [
    "## 2. How to create a bitcoin address"
   ]
  },
  {
   "cell_type": "code",
   "execution_count": null,
   "metadata": {
    "collapsed": true
   },
   "outputs": [],
   "source": []
  },
  {
   "cell_type": "code",
   "execution_count": null,
   "metadata": {
    "collapsed": true
   },
   "outputs": [],
   "source": [
    "\n",
    "\n",
    "\n",
    "\n",
    "\n",
    "\n",
    "\n",
    "\n",
    "\n",
    "\n",
    "\n",
    "\n",
    "\n",
    "\n",
    "\n",
    "\n",
    "\n",
    "\n",
    "\n",
    "\n",
    "\n",
    "\n",
    "\n",
    "\n",
    "\n",
    "\n",
    "\n",
    "\n",
    "\n"
   ]
  }
 ],
 "metadata": {
  "kernelspec": {
   "display_name": "Python 3",
   "language": "python",
   "name": "python3"
  },
  "language_info": {
   "codemirror_mode": {
    "name": "ipython",
    "version": 3
   },
   "file_extension": ".py",
   "mimetype": "text/x-python",
   "name": "python",
   "nbconvert_exporter": "python",
   "pygments_lexer": "ipython3",
   "version": "3.6.3"
  }
 },
 "nbformat": 4,
 "nbformat_minor": 2
}
