{
 "cells": [
  {
   "cell_type": "markdown",
   "metadata": {},
   "source": [
    "# How to hash in Python"
   ]
  },
  {
   "cell_type": "code",
   "execution_count": 1,
   "metadata": {
    "collapsed": true
   },
   "outputs": [],
   "source": [
    "import hashlib"
   ]
  },
  {
   "cell_type": "code",
   "execution_count": 4,
   "metadata": {},
   "outputs": [
    {
     "data": {
      "text/plain": [
       "b'\\xd2\\x85\\x85\\r\\x8d\\xd3\\x01\\x96\\xd1\\xf1\\x0bGlR8_\\x9e\\x04I\\xd2\\xf1\\xc7\\x08\\x83\\xd3\\xf3\\x95\\x82\"B\\xa2L'"
      ]
     },
     "execution_count": 4,
     "metadata": {},
     "output_type": "execute_result"
    }
   ],
   "source": [
    "m = hashlib.sha256()\n",
    "m.update(b\"My name is Jimmy\")\n",
    "m.digest()"
   ]
  },
  {
   "cell_type": "code",
   "execution_count": 5,
   "metadata": {},
   "outputs": [
    {
     "data": {
      "text/plain": [
       "32"
      ]
     },
     "execution_count": 5,
     "metadata": {},
     "output_type": "execute_result"
    }
   ],
   "source": [
    "m.digest_size"
   ]
  },
  {
   "cell_type": "code",
   "execution_count": 6,
   "metadata": {},
   "outputs": [
    {
     "data": {
      "text/plain": [
       "64"
      ]
     },
     "execution_count": 6,
     "metadata": {},
     "output_type": "execute_result"
    }
   ],
   "source": [
    "m.block_size"
   ]
  },
  {
   "cell_type": "markdown",
   "metadata": {},
   "source": [
    "OR simply..."
   ]
  },
  {
   "cell_type": "code",
   "execution_count": 8,
   "metadata": {},
   "outputs": [
    {
     "data": {
      "text/plain": [
       "b'\\x89\\xf2\\xab\\xc9\\xca\\xf4\\xe7\\x8c&\\xe3+HMA\\xaa\\xf7\\xfe\\x1b\\td\\xb0T\\xa2\\x03Jv\\x13\\xa2C\\xaf\\x9c\\xd6'"
      ]
     },
     "execution_count": 8,
     "metadata": {},
     "output_type": "execute_result"
    }
   ],
   "source": [
    "m2 = hashlib.sha256(b\"Hash this for me please\")\n",
    "\n",
    "m2.digest()"
   ]
  },
  {
   "cell_type": "code",
   "execution_count": 14,
   "metadata": {
    "collapsed": true
   },
   "outputs": [],
   "source": [
    "solution = b'\\x89\\xf2\\xab\\xc9\\xca\\xf4\\xe7\\x8c&\\xe3+HMA\\xaa\\xf7\\xfe\\x1b\\td\\xb0T\\xa2\\x03Jv\\x13\\xa2C\\xaf\\x9c\\xd6'\n",
    "\n",
    "potential_solutions = [\n",
    "    b\"This won't work\",\n",
    "    b\"Hash this for me please\",\n",
    "    b\"Stop it now\"\n",
    "]\n"
   ]
  },
  {
   "cell_type": "code",
   "execution_count": 17,
   "metadata": {},
   "outputs": [
    {
     "name": "stdout",
     "output_type": "stream",
     "text": [
      "b'\\x1f\\xc3\\xecH\\xb18\\xde\\xe9r%x\\xf8\\xd7?3\\xc7\\x8bcP\\xb7a|G.V\\x03\\x8d\\xda1,4\\xeb'\n",
      "b'\\x89\\xf2\\xab\\xc9\\xca\\xf4\\xe7\\x8c&\\xe3+HMA\\xaa\\xf7\\xfe\\x1b\\td\\xb0T\\xa2\\x03Jv\\x13\\xa2C\\xaf\\x9c\\xd6'\n",
      "b'Hash this for me please' was correct\n",
      "b'\\n\\xb6\\xcd\\xaf\\xf4!\\xad\\xdb\\xa0\\xf6\\x1f\\xa2\\xbf\\x7f\\xb4\\xfa\\xc7-\\xe8\\xe8\\xf7<\\xdd\\xef\\r\\xd8\\x08n4\\xa0Dd'\n"
     ]
    }
   ],
   "source": [
    "for ps in potential_solutions:\n",
    "    digest = hashlib.sha256(ps).digest()\n",
    "    print(digest)\n",
    "    \n",
    "    if digest == solution:\n",
    "        print(\"{} was correct\".format(ps))\n"
   ]
  }
 ],
 "metadata": {
  "kernelspec": {
   "display_name": "Python 3",
   "language": "python",
   "name": "python3"
  },
  "language_info": {
   "codemirror_mode": {
    "name": "ipython",
    "version": 3
   },
   "file_extension": ".py",
   "mimetype": "text/x-python",
   "name": "python",
   "nbconvert_exporter": "python",
   "pygments_lexer": "ipython3",
   "version": "3.6.3"
  }
 },
 "nbformat": 4,
 "nbformat_minor": 2
}
