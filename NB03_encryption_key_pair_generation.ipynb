{
 "cells": [
  {
   "cell_type": "markdown",
   "metadata": {},
   "source": [
    "# Public & Private key generation"
   ]
  },
  {
   "cell_type": "markdown",
   "metadata": {},
   "source": [
    "References: \n",
    "- https://gist.github.com/lkdocs/6519378"
   ]
  },
  {
   "cell_type": "markdown",
   "metadata": {},
   "source": [
    "## Example of RSA key pair generation"
   ]
  },
  {
   "cell_type": "markdown",
   "metadata": {},
   "source": [
    "- Use the generate() function to create a RSA key instance\n",
    "- Use the publicKey() method of the instance to create the public key \n",
    "- Use exportKey() on the instance to export the RSA key for preparation to write to a file\n"
   ]
  },
  {
   "cell_type": "code",
   "execution_count": 6,
   "metadata": {
    "collapsed": true
   },
   "outputs": [],
   "source": [
    "def generate_RSA(bits=2048):\n",
    "    '''\n",
    "    Generate an RSA keypair with an exponent of 65537 in PEM format\n",
    "    param: bits The key length in bits\n",
    "    Return private key and public key\n",
    "    '''\n",
    "    from Crypto.PublicKey import RSA \n",
    "    new_key = RSA.generate(bits, e=65537) \n",
    "    public_key = new_key.publickey().exportKey(\"PEM\") \n",
    "    private_key = new_key.exportKey(\"PEM\") \n",
    "    return private_key, public_key\n",
    "\n",
    "sign_key, verification_key = generate_RSA()"
   ]
  },
  {
   "cell_type": "markdown",
   "metadata": {},
   "source": [
    "## How to create and write public and private keys"
   ]
  },
  {
   "cell_type": "code",
   "execution_count": 40,
   "metadata": {
    "collapsed": true
   },
   "outputs": [],
   "source": [
    "from Crypto.PublicKey import RSA \n",
    "key = RSA.generate(bits) \n",
    "public_key = key.publickey().exportKey(\"PEM\")\n",
    "private_key = key.exportKey(\"PEM\") \n",
    "\n",
    "with open('private.pem', \"wb\") as file:\n",
    "    file.write(key.exportKey())\n",
    "\n",
    "with open('public.pem', \"wb\") as file:\n",
    "    file.write(key.publickey().exportKey())\n"
   ]
  },
  {
   "cell_type": "code",
   "execution_count": 42,
   "metadata": {
    "collapsed": true
   },
   "outputs": [],
   "source": [
    "from Crypto.PublicKey import RSA \n",
    "\n",
    "# Import private key\n",
    "with open(\"private.pem\", \"rb\") as file:\n",
    "    pub_key = RSA.importKey(file.read())\n",
    "    \n",
    "# Import public key \n",
    "with open('public.pem', \"rb\") as file:\n",
    "    prv_key = RSA.importKey(file.read())"
   ]
  },
  {
   "cell_type": "markdown",
   "metadata": {},
   "source": [
    "## Signing and verifying"
   ]
  },
  {
   "cell_type": "markdown",
   "metadata": {},
   "source": [
    "Signing process: \n",
    "- Generate a hash of the message \n",
    "- Use the key to create a signer \n",
    "- Sign the hash to create a signature"
   ]
  },
  {
   "cell_type": "code",
   "execution_count": 65,
   "metadata": {
    "scrolled": true
   },
   "outputs": [
    {
     "data": {
      "text/plain": [
       "b'pm\\\\\\x85\\x1a\\x9e\\x03\\xf4Q\\x8c\\xe7\\x14Yc\\x800\\xe8k~\\xd1\\x89\\xf0\\xca\\xd2\\xee\\xec\\x7f-c\\xf3\\xc8\\xf4\\xfaFn\\xd5>\\xb4\\xd5D\\x8e\\'j\\x8b\\xd7\\xb8\\xc7\\xdf\\xd4\\x9a\\xbbo\\x950\\x9c\\x17\\xc6l\\xa6\\x1c\\xfc\\x80F\\xee\\x12_v\\xeb\\xf94P\\xf1\\x9by\\x8f\\xb8\"\\xd6\\xd6\\xefrD~\\xfaA\\x93\\xb6\\xe9\\t\\xd7?\\xb8\\xc5\\x1aG\\x01\\x08\\xc8o\\xd5\\xb0YI\\xec\\xe3\\xed\\x06y\\xc9 jKG\\xb5?\\xddm\\x10h\\x07F\\x03N\\xab\\x869\\xda\\xe7\\x98\"o\\xeaXq\\xe4Z7G\\xf1\\x81\\x96\\xecN>\\x1b\\xc07U>\\xb6\\x97F\\xc2`\\x07\\xc0\\x9a2\\x9bD\\xa2\\xd8\\x12\\xe9z$\\xce7\\x8e\\xc0X^\\xc0w\\xd1WSq\\xed\\xa3\\xab\\xc7\\xfe\\xf7\\xd2\\x84\\x85\\x94\\xbe\\xb8\\x16S\\xf0\\xfb\\xd5\\x08\\xfcq`\\xd7\\xf5\\xe3wZ\\\\s\\xb4\\x90v\\xce\\x87r\\xb6\\xcf\\xe1s\\xea^\\xa9\\x8a\\xfd\\x1a\\x1d\\xbc\\xa3\\x18K\\xea)\\xc0\\x16\\xfdKAg\\xcf0H\\xef\\x12\\xe4`\\xbfb\\x1bI\\xf5\\xdd\\x1d\\x9d\\x11\\xaa:`\\xac\\x17'"
      ]
     },
     "execution_count": 65,
     "metadata": {},
     "output_type": "execute_result"
    }
   ],
   "source": [
    "from Crypto.Signature import PKCS1_v1_5\n",
    "from Crypto.PublicKey import RSA \n",
    "from Crypto.Hash import SHA\n",
    "\n",
    "message = \"To be signed\"\n",
    "with open(\"private.pem\", \"rb\") as file: \n",
    "    private_key = RSA.importKey(file.read())\n",
    "    \n",
    "hash_ = SHA.new(str.encode(message))\n",
    "signer = PKCS1_v1_5.new(private_key)\n",
    "\n",
    "signature = signer.sign(hash_)\n",
    "\n",
    "signature"
   ]
  },
  {
   "cell_type": "markdown",
   "metadata": {},
   "source": [
    "Verification process:\n",
    "\n",
    "- Import the public key \n",
    "- Hash the message \n",
    "- Create a verifier using the public key\n",
    "- Use the verifier check the signature is authentic"
   ]
  },
  {
   "cell_type": "code",
   "execution_count": 56,
   "metadata": {},
   "outputs": [
    {
     "data": {
      "text/plain": [
       "True"
      ]
     },
     "execution_count": 56,
     "metadata": {},
     "output_type": "execute_result"
    }
   ],
   "source": [
    "from Crypto.Signature import PKCS1_v1_5\n",
    "from Crypto.PublicKey import RSA \n",
    "from Crypto.Hash import SHA\n",
    "\n",
    "message = \"To be signed\"\n",
    "\n",
    "with open(\"public.pem\", \"rb\") as file:\n",
    "    public_key = RSA.importKey(file.read())\n",
    "\n",
    "hash_ = SHA.new(str.encode(message))\n",
    "verifier = PKCS1_v1_5.new(public_key)\n",
    "\n",
    "result = verifier.verify(hash_, signature)\n",
    "\n",
    "result"
   ]
  }
 ],
 "metadata": {
  "kernelspec": {
   "display_name": "Python 3",
   "language": "python",
   "name": "python3"
  },
  "language_info": {
   "codemirror_mode": {
    "name": "ipython",
    "version": 3
   },
   "file_extension": ".py",
   "mimetype": "text/x-python",
   "name": "python",
   "nbconvert_exporter": "python",
   "pygments_lexer": "ipython3",
   "version": "3.6.3"
  }
 },
 "nbformat": 4,
 "nbformat_minor": 2
}
